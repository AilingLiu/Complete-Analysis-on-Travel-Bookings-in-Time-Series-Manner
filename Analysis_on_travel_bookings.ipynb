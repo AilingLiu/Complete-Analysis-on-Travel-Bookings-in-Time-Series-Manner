{
  "nbformat": 4,
  "nbformat_minor": 0,
  "metadata": {
    "colab": {
      "name": "Analysis_on_travel_bookings.ipynb",
      "provenance": [],
      "collapsed_sections": [],
      "toc_visible": true,
      "include_colab_link": true
    },
    "kernelspec": {
      "name": "python3",
      "display_name": "Python 3"
    }
  },
  "cells": [
    {
      "cell_type": "markdown",
      "metadata": {
        "id": "view-in-github",
        "colab_type": "text"
      },
      "source": [
        "<a href=\"https://colab.research.google.com/github/AilingLiu/Complete-Analysis-on-Travel-Bookings-in-Time-Series-Manner/blob/master/Analysis_on_travel_bookings.ipynb\" target=\"_parent\"><img src=\"https://colab.research.google.com/assets/colab-badge.svg\" alt=\"Open In Colab\"/></a>"
      ]
    },
    {
      "cell_type": "markdown",
      "metadata": {
        "id": "rsPOBaPcF7G_",
        "colab_type": "text"
      },
      "source": [
        "This project is to fullfill a travel booking agency take home test to assess analysis knowledge. It comprises of 4 tasks, with reference of 2 different datasets."
      ]
    },
    {
      "cell_type": "markdown",
      "metadata": {
        "id": "M4i8gKETKiXW",
        "colab_type": "text"
      },
      "source": [
        "# Set up"
      ]
    },
    {
      "cell_type": "code",
      "metadata": {
        "id": "pvUT6pylJEv-",
        "colab_type": "code",
        "colab": {}
      },
      "source": [
        "# check Python version is 3.5 and later\n",
        "import sys\n",
        "sys.version_info >= (3, 5)\n",
        "\n",
        "# check sklearn version is 0.20 and later\n",
        "import sklearn\n",
        "sklearn.__version__ >= '0.20'\n",
        "\n",
        "# common imports\n",
        "import os\n",
        "import numpy as np\n",
        "\n",
        "# figure settings\n",
        "import matplotlib as mpl\n",
        "%matplotlib inline\n",
        "import matplotlib.pyplot as plt\n",
        "mpl.rc('axes', labelsize=14)\n",
        "mpl.rc('xtick', labelsize=12)\n",
        "mpl.rc('ytick', labelsize=12)\n",
        "\n",
        "# where to save the figures\n",
        "PROJECT_ROOT_DIR='.'\n",
        "PROJECT_ID = 'GYG_THT'\n",
        "IMAGE_PATH = os.path.join(PROJECT_ROOT_DIR, 'images', PROJECT_ID)\n",
        "os.makedirs(IMAGE_PATH, exist_ok=True)\n",
        "\n",
        "def save_fig(figure_id, image_path=IMAGE_PATH, fig_extension='png', tight_layout=True, dpi=300):\n",
        "  path=os.path.join(image_path, figure_id + '.' + fig_extension)\n",
        "  print('Saving images: ', figure_id)\n",
        "  if tight_layout:\n",
        "    plt.tight_layout()\n",
        "  plt.savefig(path, format=fig_extension, dpi=dpi)"
      ],
      "execution_count": 0,
      "outputs": []
    },
    {
      "cell_type": "markdown",
      "metadata": {
        "id": "yaPokqRZKkRm",
        "colab_type": "text"
      },
      "source": [
        "# Get Data"
      ]
    },
    {
      "cell_type": "code",
      "metadata": {
        "id": "D31CFH-pGxnV",
        "colab_type": "code",
        "colab": {}
      },
      "source": [
        "# where to download the data and where to store the data\n",
        "URL_PATH_Q1 = 'https://raw.githubusercontent.com/AilingLiu/Complete-Analysis-on-Travel-Bookings-in-Time-Series-Manner/master/datasets/analytics_tht_q1.csv' \n",
        "URL_PATH_Q2 = 'https://raw.githubusercontent.com/AilingLiu/Complete-Analysis-on-Travel-Bookings-in-Time-Series-Manner/master/datasets/analytics_tht_Q2.csv'\n",
        "DATA_PATH = os.path.join('datasets', PROJECT_ID)\n",
        "\n",
        "import urllib\n",
        "\n",
        "def fetch_data_q1(url_path=URL_PATH_Q1, data_path=DATA_PATH):\n",
        "  path = os.path.join(data_path, 'data1.csv')\n",
        "  if not os.path.isdir(data_path):\n",
        "    os.makedirs(data_path)\n",
        "  try:\n",
        "    urllib.request.urlretrieve(url_path, path)\n",
        "    print('Dataset is downloaded in: \\n', path)\n",
        "    return path\n",
        "  except:\n",
        "    print('Please check your url validity.')"
      ],
      "execution_count": 0,
      "outputs": []
    },
    {
      "cell_type": "code",
      "metadata": {
        "id": "_qdlM-GXORKS",
        "colab_type": "code",
        "outputId": "73106b83-dd93-4fc1-f67d-85a3c5f357c5",
        "colab": {
          "base_uri": "https://localhost:8080/",
          "height": 51
        }
      },
      "source": [
        "CSV_PATH1 = fetch_data_q1()"
      ],
      "execution_count": 0,
      "outputs": [
        {
          "output_type": "stream",
          "text": [
            "Dataset is downloaded in: \n",
            " datasets/GYG_THT/data1.csv\n"
          ],
          "name": "stdout"
        }
      ]
    },
    {
      "cell_type": "code",
      "metadata": {
        "id": "SbEgOYQMOi1m",
        "colab_type": "code",
        "outputId": "97bc1a58-49d4-47e2-e1af-cbced2d85f26",
        "colab": {
          "base_uri": "https://localhost:8080/",
          "height": 71
        }
      },
      "source": [
        "# take a quick look of dataset\n",
        "!head -n 2 'datasets/GYG_THT/data1.csv'"
      ],
      "execution_count": 0,
      "outputs": [
        {
          "output_type": "stream",
          "text": [
            "order_id,booking_id,customer_id,net_revenue,gross_merchandise_value,date_of_checkout,date_of_travel,activity_category,device_id\n",
            "ea647a26545133eb1178627c660eb307,79110c8c61651a17c71d36d1ff400902,2e08815f0bc331f3c8239676b9755701,76.41611349016657,362.8098901392762,2017-08-04T23:31:19.000+02:00,2017-08-06T20:00:00.000+02:00,City Cruise,1\n"
          ],
          "name": "stdout"
        }
      ]
    },
    {
      "cell_type": "code",
      "metadata": {
        "id": "_Pc2gCxeOVNy",
        "colab_type": "code",
        "colab": {}
      },
      "source": [
        "import pandas as pd\n",
        "\n",
        "def load_data_q1(csv_path=CSV_PATH1):\n",
        "  return pd.read_csv(csv_path)"
      ],
      "execution_count": 0,
      "outputs": []
    },
    {
      "cell_type": "code",
      "metadata": {
        "id": "Nd-v3aQqQW57",
        "colab_type": "code",
        "outputId": "28b530ea-df9d-4009-83a0-6f7c374d99f4",
        "colab": {
          "base_uri": "https://localhost:8080/",
          "height": 309
        }
      },
      "source": [
        "bookings = load_data_q1()\n",
        "bookings.head()"
      ],
      "execution_count": 0,
      "outputs": [
        {
          "output_type": "execute_result",
          "data": {
            "text/html": [
              "<div>\n",
              "<style scoped>\n",
              "    .dataframe tbody tr th:only-of-type {\n",
              "        vertical-align: middle;\n",
              "    }\n",
              "\n",
              "    .dataframe tbody tr th {\n",
              "        vertical-align: top;\n",
              "    }\n",
              "\n",
              "    .dataframe thead th {\n",
              "        text-align: right;\n",
              "    }\n",
              "</style>\n",
              "<table border=\"1\" class=\"dataframe\">\n",
              "  <thead>\n",
              "    <tr style=\"text-align: right;\">\n",
              "      <th></th>\n",
              "      <th>order_id</th>\n",
              "      <th>booking_id</th>\n",
              "      <th>customer_id</th>\n",
              "      <th>net_revenue</th>\n",
              "      <th>gross_merchandise_value</th>\n",
              "      <th>date_of_checkout</th>\n",
              "      <th>date_of_travel</th>\n",
              "      <th>activity_category</th>\n",
              "      <th>device_id</th>\n",
              "    </tr>\n",
              "  </thead>\n",
              "  <tbody>\n",
              "    <tr>\n",
              "      <th>0</th>\n",
              "      <td>ea647a26545133eb1178627c660eb307</td>\n",
              "      <td>79110c8c61651a17c71d36d1ff400902</td>\n",
              "      <td>2e08815f0bc331f3c8239676b9755701</td>\n",
              "      <td>76.416113</td>\n",
              "      <td>362.809890</td>\n",
              "      <td>2017-08-04T23:31:19.000+02:00</td>\n",
              "      <td>2017-08-06T20:00:00.000+02:00</td>\n",
              "      <td>City Cruise</td>\n",
              "      <td>1</td>\n",
              "    </tr>\n",
              "    <tr>\n",
              "      <th>1</th>\n",
              "      <td>c9d995fdd3f8f46113f72719428e58c0</td>\n",
              "      <td>cb3f1a6b758322c3750297bbbba75162</td>\n",
              "      <td>99a84ab22128410a7ca82a8848314880</td>\n",
              "      <td>30.105888</td>\n",
              "      <td>100.377201</td>\n",
              "      <td>2018-07-08T15:48:15.000+02:00</td>\n",
              "      <td>2018-07-11T12:15:00.000+02:00</td>\n",
              "      <td>City Cruise</td>\n",
              "      <td>3</td>\n",
              "    </tr>\n",
              "    <tr>\n",
              "      <th>2</th>\n",
              "      <td>838a05584192eab5758dc76eb8754382</td>\n",
              "      <td>1d84c6ef74f4213bc111a31230e75d18</td>\n",
              "      <td>7d2de46dab587a091d4d795f3466ec02</td>\n",
              "      <td>16.083138</td>\n",
              "      <td>41.534976</td>\n",
              "      <td>2017-08-17T15:45:36.000+02:00</td>\n",
              "      <td>2017-08-17T09:30:00.000+02:00</td>\n",
              "      <td>Attraction Ticket</td>\n",
              "      <td>3</td>\n",
              "    </tr>\n",
              "    <tr>\n",
              "      <th>3</th>\n",
              "      <td>c552f12c32f6e4eaf8b67b088ba263ed</td>\n",
              "      <td>bf7f177122241fb49d8905a3c22a28c8</td>\n",
              "      <td>c8899bd2bdc56ef116a38ec0f2c2cfa2</td>\n",
              "      <td>13.950031</td>\n",
              "      <td>76.161595</td>\n",
              "      <td>2017-08-31T05:33:30.000+02:00</td>\n",
              "      <td>2017-09-02T14:15:00.000+02:00</td>\n",
              "      <td>Attraction Ticket</td>\n",
              "      <td>2</td>\n",
              "    </tr>\n",
              "    <tr>\n",
              "      <th>4</th>\n",
              "      <td>7474f90401e812a747c518061a0e964c</td>\n",
              "      <td>2b1b6db082b298d7a69d683d9415ecfe</td>\n",
              "      <td>e408bdd3d03e4f4189f48f0e8e9c2ec2</td>\n",
              "      <td>12.713799</td>\n",
              "      <td>51.909630</td>\n",
              "      <td>2018-08-20T19:35:47.000+02:00</td>\n",
              "      <td>2018-08-21T10:00:00.000+02:00</td>\n",
              "      <td>Attraction Ticket</td>\n",
              "      <td>2</td>\n",
              "    </tr>\n",
              "  </tbody>\n",
              "</table>\n",
              "</div>"
            ],
            "text/plain": [
              "                           order_id  ... device_id\n",
              "0  ea647a26545133eb1178627c660eb307  ...         1\n",
              "1  c9d995fdd3f8f46113f72719428e58c0  ...         3\n",
              "2  838a05584192eab5758dc76eb8754382  ...         3\n",
              "3  c552f12c32f6e4eaf8b67b088ba263ed  ...         2\n",
              "4  7474f90401e812a747c518061a0e964c  ...         2\n",
              "\n",
              "[5 rows x 9 columns]"
            ]
          },
          "metadata": {
            "tags": []
          },
          "execution_count": 68
        }
      ]
    },
    {
      "cell_type": "markdown",
      "metadata": {
        "id": "uMZgqZiHKe2Z",
        "colab_type": "text"
      },
      "source": [
        "# (Optional)"
      ]
    },
    {
      "cell_type": "markdown",
      "metadata": {
        "id": "jF2Oc8SGSvlw",
        "colab_type": "text"
      },
      "source": [
        "This part is used to have quick look at the data structure, for self reference only. Toggle this to skip to tasks solutions directly.\n",
        "\n",
        "This dataset consists of 9 attributes. According to THT guidelines, below is a list of descriptions of the attributes.\n",
        "\n",
        "* `order_id`: Uniquely identifies a shopping cart.\n",
        "* `booking_id`: Uniquely identifies a booking.\n",
        "* `customer_id`: Uniquely identifiers a customer\n",
        "* `net_revenue`: This is a calculated metric that equals GMV less our basic costs\n",
        "* `gross_merchandise_value`: The Gross Merchandise Value (gmv)\n",
        "* `date_of_checkout`: Indicates the date and time of checkout. Format is: YYYY-MM-DD HH:MM:SS\n",
        "* `date_of_travel`: Indicates the date when activity will take place. Format is: YYYY-MM-DD HH:MM:SS\n",
        "* `activity_category`: Our groupings of activities.\n",
        "* `device_id Uniquely`: identifies a device. Device refers to technology devices, such as desktop, mobile and tablet\n"
      ]
    },
    {
      "cell_type": "code",
      "metadata": {
        "id": "tSUo6fhBSu2s",
        "colab_type": "code",
        "outputId": "79ede248-bd42-4c82-aa51-4c28d73de0b3",
        "colab": {
          "base_uri": "https://localhost:8080/",
          "height": 255
        }
      },
      "source": [
        "bookings.info()"
      ],
      "execution_count": 0,
      "outputs": [
        {
          "output_type": "stream",
          "text": [
            "<class 'pandas.core.frame.DataFrame'>\n",
            "RangeIndex: 137988 entries, 0 to 137987\n",
            "Data columns (total 9 columns):\n",
            "order_id                   137988 non-null object\n",
            "booking_id                 137988 non-null object\n",
            "customer_id                137988 non-null object\n",
            "net_revenue                137988 non-null float64\n",
            "gross_merchandise_value    137988 non-null float64\n",
            "date_of_checkout           137988 non-null object\n",
            "date_of_travel             137988 non-null object\n",
            "activity_category          131254 non-null object\n",
            "device_id                  137988 non-null int64\n",
            "dtypes: float64(2), int64(1), object(6)\n",
            "memory usage: 9.5+ MB\n"
          ],
          "name": "stdout"
        }
      ]
    },
    {
      "cell_type": "markdown",
      "metadata": {
        "id": "vwnUTw5rV1BK",
        "colab_type": "text"
      },
      "source": [
        "<b>shape of dataset</b>\n",
        "\n",
        "This dataset has 137,988 rows, 9 columns. Not a large dataset, to split dev and validation set, we can consider using .3 as validation set ratio.\n",
        "\n",
        "<b>data types</b>\n",
        "\n",
        "- It has 6 `categorical` attributes (in pandas it's registered as `object`). \n",
        "- The `device_id` is read as `int64`. In general sense, id is nominal values. Consider to convert it into `object` for upcoming device type analysis.\n",
        "- `net_revenue` and `gross_merchandise_value` are numerical type `float64`. \n",
        "\n",
        "<b> To check </b>: Using $$NR=GMV-COST$$ we can deduce the cost amount: $$COST=GMV-NR$$\n",
        "<b>nonnull values</b>\n",
        "\n",
        "There are missing values in `activity_category` attribute. Other attributes are complete. "
      ]
    },
    {
      "cell_type": "code",
      "metadata": {
        "id": "XJH6Iv2VYIhU",
        "colab_type": "code",
        "outputId": "24ce8e82-1834-4d5f-df5d-002b76c5951d",
        "colab": {
          "base_uri": "https://localhost:8080/",
          "height": 297
        }
      },
      "source": [
        "bookings.describe().iloc[:, :-1]"
      ],
      "execution_count": 0,
      "outputs": [
        {
          "output_type": "execute_result",
          "data": {
            "text/html": [
              "<div>\n",
              "<style scoped>\n",
              "    .dataframe tbody tr th:only-of-type {\n",
              "        vertical-align: middle;\n",
              "    }\n",
              "\n",
              "    .dataframe tbody tr th {\n",
              "        vertical-align: top;\n",
              "    }\n",
              "\n",
              "    .dataframe thead th {\n",
              "        text-align: right;\n",
              "    }\n",
              "</style>\n",
              "<table border=\"1\" class=\"dataframe\">\n",
              "  <thead>\n",
              "    <tr style=\"text-align: right;\">\n",
              "      <th></th>\n",
              "      <th>net_revenue</th>\n",
              "      <th>gross_merchandise_value</th>\n",
              "    </tr>\n",
              "  </thead>\n",
              "  <tbody>\n",
              "    <tr>\n",
              "      <th>count</th>\n",
              "      <td>137988.000000</td>\n",
              "      <td>137988.000000</td>\n",
              "    </tr>\n",
              "    <tr>\n",
              "      <th>mean</th>\n",
              "      <td>33.051721</td>\n",
              "      <td>132.356857</td>\n",
              "    </tr>\n",
              "    <tr>\n",
              "      <th>std</th>\n",
              "      <td>35.736766</td>\n",
              "      <td>141.728076</td>\n",
              "    </tr>\n",
              "    <tr>\n",
              "      <th>min</th>\n",
              "      <td>-19.549436</td>\n",
              "      <td>0.000000</td>\n",
              "    </tr>\n",
              "    <tr>\n",
              "      <th>25%</th>\n",
              "      <td>12.573208</td>\n",
              "      <td>50.988515</td>\n",
              "    </tr>\n",
              "    <tr>\n",
              "      <th>50%</th>\n",
              "      <td>23.536890</td>\n",
              "      <td>92.075054</td>\n",
              "    </tr>\n",
              "    <tr>\n",
              "      <th>75%</th>\n",
              "      <td>41.328937</td>\n",
              "      <td>163.994676</td>\n",
              "    </tr>\n",
              "    <tr>\n",
              "      <th>max</th>\n",
              "      <td>1143.417760</td>\n",
              "      <td>5251.720124</td>\n",
              "    </tr>\n",
              "  </tbody>\n",
              "</table>\n",
              "</div>"
            ],
            "text/plain": [
              "         net_revenue  gross_merchandise_value\n",
              "count  137988.000000            137988.000000\n",
              "mean       33.051721               132.356857\n",
              "std        35.736766               141.728076\n",
              "min       -19.549436                 0.000000\n",
              "25%        12.573208                50.988515\n",
              "50%        23.536890                92.075054\n",
              "75%        41.328937               163.994676\n",
              "max      1143.417760              5251.720124"
            ]
          },
          "metadata": {
            "tags": []
          },
          "execution_count": 70
        }
      ]
    },
    {
      "cell_type": "markdown",
      "metadata": {
        "id": "aAB5H3OlY44A",
        "colab_type": "text"
      },
      "source": [
        "As `net_revenue` shows, 75% of orders are below ${€}$41 per order. Some of the order/orders appear to be losing revenue. \n",
        "On the other hand, `gross_merchandise_value` shows 75% of orders are below ${€}$164 per order. Some of th order/orders do not make any gross revenue. The standard deviation of 142 indicates a significant dispersion of data. (In other words: some orders generate significantly different gross values, either very small or very large, for merchandises. \n"
      ]
    },
    {
      "cell_type": "code",
      "metadata": {
        "id": "uQKGRaTB7HyH",
        "colab_type": "code",
        "outputId": "05063a18-c75a-457f-8cd6-04acc56f5dcd",
        "colab": {
          "base_uri": "https://localhost:8080/",
          "height": 386
        }
      },
      "source": [
        "# Let's take a look at the gross value and net revenue histogram\n",
        "bookings.iloc[:, :-1].hist(bins=50, figsize=(15, 5));\n",
        "save_fig('booking_nr_and_gmv_histogram')"
      ],
      "execution_count": 0,
      "outputs": [
        {
          "output_type": "stream",
          "text": [
            "Saving images:  booking_nr_and_gmv_histogram\n"
          ],
          "name": "stdout"
        },
        {
          "output_type": "display_data",
          "data": {
            "image/png": "[encoded data removed]",
            "text/plain": [
              "<Figure size 1080x360 with 2 Axes>"
            ]
          },
          "metadata": {
            "tags": []
          }
        }
      ]
    },
    {
      "cell_type": "markdown",
      "metadata": {
        "id": "a3vwjV0DeqDp",
        "colab_type": "text"
      },
      "source": [
        "Both `net_revenue` and `gross_merchandise_values` are tail-heavy to the right. If we were to build any regression models, we need to transform it into a more noralized shape (e.g. 0-mean standardization)."
      ]
    },
    {
      "cell_type": "markdown",
      "metadata": {
        "id": "Yd89lPZyfSP5",
        "colab_type": "text"
      },
      "source": [
        "# Task 1"
      ]
    },
    {
      "cell_type": "markdown",
      "metadata": {
        "id": "NYsjdzF2fY9y",
        "colab_type": "text"
      },
      "source": [
        "## 1.1 \n",
        "- <b> Clean the dataset. Point out anything you find, that required cleaning. </b>\n",
        "\n",
        "\n",
        "---\n",
        "\n"
      ]
    },
    {
      "cell_type": "markdown",
      "metadata": {
        "id": "swoEJgr8hjSR",
        "colab_type": "text"
      },
      "source": [
        "**Solutions and Justifications:**\n",
        "\n",
        "* Null values\n",
        "\n",
        "In the overview section, using `.info` pandas method we can see that `activity_category` attribute has missing values. There are three general approaches to tackle null values: delete the rows containing null values, delete the attribute that contains null values, or impute values with sensible approaches.\n",
        "\n",
        "As `activity_category` is categorical type, we can impute the missing values using the most freaquent strategy, i.e. `Attraction Ticket` in this dataset, to proximate the trend of dominant type. However, it will also introduce bias, especially when the ratio of mi\n",
        "\n",
        "ssing values are large. Here, the missing values a sall ratio (5%) of the entire data, to be more confident we can drop the rows that containing missing values."
      ]
    },
    {
      "cell_type": "code",
      "metadata": {
        "id": "P9VWCGeChoSQ",
        "colab_type": "code",
        "outputId": "5f4795dd-0b66-436c-ec07-0cd3224afd44",
        "colab": {
          "base_uri": "https://localhost:8080/",
          "height": 904
        }
      },
      "source": [
        "# back up the data for exploraty analysis\n",
        "booking = bookings.copy()\n",
        "\n",
        "# Let's make sure one attribute `activity_category` has missing vaules while other attributes are complete\n",
        "print('Percentage of Null Values by Attribute: \\n ')\n",
        "print(bookings.isnull().mean().round(4)*100)\n",
        "\n",
        "# Take a look of categories of `activity_category`\n",
        "print('\\nPercentae of each category in Activity: \\n')\n",
        "print(bookings.activity_category.value_counts(dropna=False, normalize=True))\n",
        "\n",
        "# Take a look at the rows where `activity_category` is null\n",
        "print('\\npreview of rows with missing values: \\n')\n",
        "display(bookings[bookings['activity_category'].isnull()].sample(5, random_state=42))\n",
        "\n",
        "# Dropping the rows contain missing values in `activity_category`\n",
        "print('\\nCleaning Missing values... ')\n",
        "booking.dropna(axis=0, subset=['activity_category'], inplace=True)\n",
        "print('\\nAny missing values left after cleaning: ', booking['activity_category'].isnull().any())"
      ],
      "execution_count": 0,
      "outputs": [
        {
          "output_type": "stream",
          "text": [
            "Percentage of Null Values by Attribute: \n",
            " \n",
            "order_id                   0.00\n",
            "booking_id                 0.00\n",
            "customer_id                0.00\n",
            "net_revenue                0.00\n",
            "gross_merchandise_value    0.00\n",
            "date_of_checkout           0.00\n",
            "date_of_travel             0.00\n",
            "activity_category          4.88\n",
            "device_id                  0.00\n",
            "dtype: float64\n",
            "\n",
            "Percentae of each category in Activity: \n",
            "\n",
            "Attraction Ticket          0.327702\n",
            "Day Trip                   0.161688\n",
            "Attraction Walking Tour    0.137744\n",
            "City Cruise                0.097632\n",
            "City Motorized Tour        0.068086\n",
            "City Walking Tour          0.056802\n",
            "NaN                        0.048801\n",
            "Hop On Hop Off             0.033597\n",
            "Other                      0.031988\n",
            "Transfer                   0.019219\n",
            "City Card                  0.014545\n",
            "Multi Day Trip             0.002196\n",
            "Name: activity_category, dtype: float64\n",
            "\n",
            "preview of rows with missing values: \n",
            "\n"
          ],
          "name": "stdout"
        },
        {
          "output_type": "display_data",
          "data": {
            "text/html": [
              "<div>\n",
              "<style scoped>\n",
              "    .dataframe tbody tr th:only-of-type {\n",
              "        vertical-align: middle;\n",
              "    }\n",
              "\n",
              "    .dataframe tbody tr th {\n",
              "        vertical-align: top;\n",
              "    }\n",
              "\n",
              "    .dataframe thead th {\n",
              "        text-align: right;\n",
              "    }\n",
              "</style>\n",
              "<table border=\"1\" class=\"dataframe\">\n",
              "  <thead>\n",
              "    <tr style=\"text-align: right;\">\n",
              "      <th></th>\n",
              "      <th>order_id</th>\n",
              "      <th>booking_id</th>\n",
              "      <th>customer_id</th>\n",
              "      <th>net_revenue</th>\n",
              "      <th>gross_merchandise_value</th>\n",
              "      <th>date_of_checkout</th>\n",
              "      <th>date_of_travel</th>\n",
              "      <th>activity_category</th>\n",
              "      <th>device_id</th>\n",
              "    </tr>\n",
              "  </thead>\n",
              "  <tbody>\n",
              "    <tr>\n",
              "      <th>7410</th>\n",
              "      <td>e53803ef6e427da9d5411ff8e4bb9ebd</td>\n",
              "      <td>ad99fd356192671555834beb8299d5d3</td>\n",
              "      <td>6ea311325dd5073d39b66362ea765162</td>\n",
              "      <td>20.288751</td>\n",
              "      <td>101.467994</td>\n",
              "      <td>2017-06-27T18:54:57.000+02:00</td>\n",
              "      <td>2017-06-27T08:30:00.000+02:00</td>\n",
              "      <td>NaN</td>\n",
              "      <td>3</td>\n",
              "    </tr>\n",
              "    <tr>\n",
              "      <th>96082</th>\n",
              "      <td>62690861e425b15940116f7af703758a</td>\n",
              "      <td>4a7abd77104e007062033444d8191c02</td>\n",
              "      <td>3b3aba2fd9280063c57b772f2a6f67a2</td>\n",
              "      <td>0.000000</td>\n",
              "      <td>0.000000</td>\n",
              "      <td>2017-10-20T15:43:36.000+02:00</td>\n",
              "      <td>2017-10-31T08:45:00.000+01:00</td>\n",
              "      <td>NaN</td>\n",
              "      <td>1</td>\n",
              "    </tr>\n",
              "    <tr>\n",
              "      <th>114153</th>\n",
              "      <td>059991eb0367bf1da98568c2c62537bd</td>\n",
              "      <td>563dd8a931d8699a597b50d593c56f76</td>\n",
              "      <td>2df1bbd250977f4b363055989ecc19f2</td>\n",
              "      <td>140.518385</td>\n",
              "      <td>439.116924</td>\n",
              "      <td>2017-05-02T01:33:50.000+02:00</td>\n",
              "      <td>2017-08-03T09:15:00.000+02:00</td>\n",
              "      <td>NaN</td>\n",
              "      <td>1</td>\n",
              "    </tr>\n",
              "    <tr>\n",
              "      <th>40999</th>\n",
              "      <td>79ef335fdad8c6c6492a4efdd14394be</td>\n",
              "      <td>4311311cbc01b5828a78d134ad387c6b</td>\n",
              "      <td>45fa204abd87d861d0a713cc8431dc80</td>\n",
              "      <td>0.000000</td>\n",
              "      <td>0.000000</td>\n",
              "      <td>2017-12-28T21:33:53.000+01:00</td>\n",
              "      <td>2018-01-15T11:00:00.000+01:00</td>\n",
              "      <td>NaN</td>\n",
              "      <td>1</td>\n",
              "    </tr>\n",
              "    <tr>\n",
              "      <th>44523</th>\n",
              "      <td>c3c4e3c6a91c9d95e07773d86978fd28</td>\n",
              "      <td>7aadd0712a1534a668aecfb716ef4244</td>\n",
              "      <td>f7aeb84e8d4a41e182670b3045987d72</td>\n",
              "      <td>73.883050</td>\n",
              "      <td>441.662108</td>\n",
              "      <td>2018-04-03T03:58:21.000+02:00</td>\n",
              "      <td>2018-07-19T13:00:00.000+02:00</td>\n",
              "      <td>NaN</td>\n",
              "      <td>1</td>\n",
              "    </tr>\n",
              "  </tbody>\n",
              "</table>\n",
              "</div>"
            ],
            "text/plain": [
              "                                order_id  ... device_id\n",
              "7410    e53803ef6e427da9d5411ff8e4bb9ebd  ...         3\n",
              "96082   62690861e425b15940116f7af703758a  ...         1\n",
              "114153  059991eb0367bf1da98568c2c62537bd  ...         1\n",
              "40999   79ef335fdad8c6c6492a4efdd14394be  ...         1\n",
              "44523   c3c4e3c6a91c9d95e07773d86978fd28  ...         1\n",
              "\n",
              "[5 rows x 9 columns]"
            ]
          },
          "metadata": {
            "tags": []
          }
        },
        {
          "output_type": "stream",
          "text": [
            "\n",
            "Cleaning Missing values... \n",
            "\n",
            "Any missing values left after cleaning:  False\n"
          ],
          "name": "stdout"
        }
      ]
    },
    {
      "cell_type": "markdown",
      "metadata": {
        "id": "uKlUSWK3feVg",
        "colab_type": "text"
      },
      "source": [
        "* duplicated rows\n",
        "\n",
        "There are four attributes indicate unique identifier. It would be ideal for analysis if any of these is a primary key, i.e. a unique id for each row without duplicated id in any other rows. How to verify which id is the unique id? If the number of unique id in the attribute is equivalent to the total number of rows, then we get our answer."
      ]
    },
    {
      "cell_type": "code",
      "metadata": {
        "id": "WCM-Aj-YS1LN",
        "colab_type": "code",
        "outputId": "adc55191-bfea-49b3-9ffb-2f0fd913f3fd",
        "colab": {
          "base_uri": "https://localhost:8080/",
          "height": 102
        }
      },
      "source": [
        "# checking which id is identifier by uniqueness ratio among the entire set\n",
        "id_columns = [col for col in booking.columns if 'id' in col]\n",
        "booking[id_columns].nunique()/len(booking)"
      ],
      "execution_count": 0,
      "outputs": [
        {
          "output_type": "execute_result",
          "data": {
            "text/plain": [
              "order_id       0.897436\n",
              "booking_id     0.951575\n",
              "customer_id    0.721022\n",
              "device_id      0.000038\n",
              "dtype: float64"
            ]
          },
          "metadata": {
            "tags": []
          },
          "execution_count": 73
        }
      ]
    },
    {
      "cell_type": "markdown",
      "metadata": {
        "id": "iNU2DJD5guW_",
        "colab_type": "text"
      },
      "source": [
        "Apparently, `booking_id` has the largest potential to be unique identity. But let's take a look of duplicated rows first."
      ]
    },
    {
      "cell_type": "code",
      "metadata": {
        "id": "u314UNFYdsC8",
        "colab_type": "code",
        "outputId": "61864f5c-852c-42c4-93d8-29b3aef68401",
        "colab": {
          "base_uri": "https://localhost:8080/",
          "height": 309
        }
      },
      "source": [
        "# check a sample of duplicated rows where values at all columns are identical\n",
        "dulicated_booking= booking[booking.duplicated(keep=False)].sort_values(by='booking_id')\n",
        "dulicated_booking.head()"
      ],
      "execution_count": 0,
      "outputs": [
        {
          "output_type": "execute_result",
          "data": {
            "text/html": [
              "<div>\n",
              "<style scoped>\n",
              "    .dataframe tbody tr th:only-of-type {\n",
              "        vertical-align: middle;\n",
              "    }\n",
              "\n",
              "    .dataframe tbody tr th {\n",
              "        vertical-align: top;\n",
              "    }\n",
              "\n",
              "    .dataframe thead th {\n",
              "        text-align: right;\n",
              "    }\n",
              "</style>\n",
              "<table border=\"1\" class=\"dataframe\">\n",
              "  <thead>\n",
              "    <tr style=\"text-align: right;\">\n",
              "      <th></th>\n",
              "      <th>order_id</th>\n",
              "      <th>booking_id</th>\n",
              "      <th>customer_id</th>\n",
              "      <th>net_revenue</th>\n",
              "      <th>gross_merchandise_value</th>\n",
              "      <th>date_of_checkout</th>\n",
              "      <th>date_of_travel</th>\n",
              "      <th>activity_category</th>\n",
              "      <th>device_id</th>\n",
              "    </tr>\n",
              "  </thead>\n",
              "  <tbody>\n",
              "    <tr>\n",
              "      <th>97894</th>\n",
              "      <td>b2bbda16c2392390b119d089d799a5d8</td>\n",
              "      <td>00012e6528a8d7f6ce683e4bade263b7</td>\n",
              "      <td>ddf93037d79a12e0c81a620e92b252b1</td>\n",
              "      <td>23.694449</td>\n",
              "      <td>89.142032</td>\n",
              "      <td>2018-04-21T18:58:51.000+02:00</td>\n",
              "      <td>2018-04-21T20:45:00.000+02:00</td>\n",
              "      <td>City Walking Tour</td>\n",
              "      <td>1</td>\n",
              "    </tr>\n",
              "    <tr>\n",
              "      <th>129623</th>\n",
              "      <td>b2bbda16c2392390b119d089d799a5d8</td>\n",
              "      <td>00012e6528a8d7f6ce683e4bade263b7</td>\n",
              "      <td>ddf93037d79a12e0c81a620e92b252b1</td>\n",
              "      <td>23.694449</td>\n",
              "      <td>89.142032</td>\n",
              "      <td>2018-04-21T18:58:51.000+02:00</td>\n",
              "      <td>2018-04-21T20:45:00.000+02:00</td>\n",
              "      <td>City Walking Tour</td>\n",
              "      <td>1</td>\n",
              "    </tr>\n",
              "    <tr>\n",
              "      <th>95021</th>\n",
              "      <td>094846097aeb2b1129993ae914b9dc78</td>\n",
              "      <td>00047553fda1288645dfdc522b7b9e50</td>\n",
              "      <td>0c99129bae23ccacee7507d5a6e4b140</td>\n",
              "      <td>25.185200</td>\n",
              "      <td>71.095467</td>\n",
              "      <td>2018-04-23T03:07:35.000+02:00</td>\n",
              "      <td>2018-04-27T09:30:00.000+02:00</td>\n",
              "      <td>Hop On Hop Off</td>\n",
              "      <td>2</td>\n",
              "    </tr>\n",
              "    <tr>\n",
              "      <th>96800</th>\n",
              "      <td>094846097aeb2b1129993ae914b9dc78</td>\n",
              "      <td>00047553fda1288645dfdc522b7b9e50</td>\n",
              "      <td>0c99129bae23ccacee7507d5a6e4b140</td>\n",
              "      <td>25.185200</td>\n",
              "      <td>71.095467</td>\n",
              "      <td>2018-04-23T03:07:35.000+02:00</td>\n",
              "      <td>2018-04-27T09:30:00.000+02:00</td>\n",
              "      <td>Hop On Hop Off</td>\n",
              "      <td>2</td>\n",
              "    </tr>\n",
              "    <tr>\n",
              "      <th>115730</th>\n",
              "      <td>e9c6430fc12c22f7714bbd4b6f1df75b</td>\n",
              "      <td>0015e5c2011bf1c22153a5a2a4998240</td>\n",
              "      <td>b9dca31e9d9edf69ed09ce97863b82c1</td>\n",
              "      <td>88.523916</td>\n",
              "      <td>338.497325</td>\n",
              "      <td>2018-04-18T18:00:04.000+02:00</td>\n",
              "      <td>2018-06-01T18:00:00.000+02:00</td>\n",
              "      <td>City Cruise</td>\n",
              "      <td>2</td>\n",
              "    </tr>\n",
              "  </tbody>\n",
              "</table>\n",
              "</div>"
            ],
            "text/plain": [
              "                                order_id  ... device_id\n",
              "97894   b2bbda16c2392390b119d089d799a5d8  ...         1\n",
              "129623  b2bbda16c2392390b119d089d799a5d8  ...         1\n",
              "95021   094846097aeb2b1129993ae914b9dc78  ...         2\n",
              "96800   094846097aeb2b1129993ae914b9dc78  ...         2\n",
              "115730  e9c6430fc12c22f7714bbd4b6f1df75b  ...         2\n",
              "\n",
              "[5 rows x 9 columns]"
            ]
          },
          "metadata": {
            "tags": []
          },
          "execution_count": 74
        }
      ]
    },
    {
      "cell_type": "code",
      "metadata": {
        "id": "RNpLHfpuhJKX",
        "colab_type": "code",
        "outputId": "c311f39f-81b7-4d7c-9398-df58ffc42263",
        "colab": {
          "base_uri": "https://localhost:8080/",
          "height": 170
        }
      },
      "source": [
        "# the total number of duplicated booking_id\n",
        "print('The total number of duplicated rows: ')\n",
        "print(booking.duplicated().sum())\n",
        "\n",
        "# Let's get rid of these rows\n",
        "print('\\ndroping dulicated rows...')\n",
        "booking.drop_duplicates(inplace=True)\n",
        "booking[id_columns].nunique()/len(booking)"
      ],
      "execution_count": 0,
      "outputs": [
        {
          "output_type": "stream",
          "text": [
            "The total number of duplicated rows: \n",
            "6356\n",
            "\n",
            "droping dulicated rows...\n"
          ],
          "name": "stdout"
        },
        {
          "output_type": "execute_result",
          "data": {
            "text/plain": [
              "order_id       0.943106\n",
              "booking_id     1.000000\n",
              "customer_id    0.757714\n",
              "device_id      0.000040\n",
              "dtype: float64"
            ]
          },
          "metadata": {
            "tags": []
          },
          "execution_count": 75
        }
      ]
    },
    {
      "cell_type": "markdown",
      "metadata": {
        "id": "wOzDhiUfj14s",
        "colab_type": "text"
      },
      "source": [
        "Indeed, after cleaning duplicated rows, `booking_id` has rised to become the primary key of this dataset, i.e. each row contains a unique booking id. Notice that `order_id` attribute still has small ratio of duplicated ids, regardless of `booking_id` is different. What contributes to this difference? This is beyond the topic. If you are interested in how I find the solution, read through. Otherwise, toggle below section to go to next task."
      ]
    },
    {
      "cell_type": "markdown",
      "metadata": {
        "id": "pHkYHr6wpnoG",
        "colab_type": "text"
      },
      "source": [
        "### (Optional) "
      ]
    },
    {
      "cell_type": "markdown",
      "metadata": {
        "id": "rLaKQgGTtdSk",
        "colab_type": "text"
      },
      "source": [
        "What makes the `order_id` identical under different `different booking_id`?"
      ]
    },
    {
      "cell_type": "code",
      "metadata": {
        "id": "tTCzXaMukb9K",
        "colab_type": "code",
        "outputId": "f13de133-8926-4cc0-a082-8756323fd199",
        "colab": {
          "base_uri": "https://localhost:8080/",
          "height": 326
        }
      },
      "source": [
        "# check a sample of duplicated orders\n",
        "dulicated_order= booking[booking.duplicated(subset='order_id', keep=False)].sort_values(by='order_id')\n",
        "display(dulicated_order.head()) # looks like each `date_of_travel` is different, while `date_of_checkout` is the same\n",
        "\n",
        "# check if the number of `date_of_checkout` uniqueness is aligned with `order_id`\n",
        "dulicated_order.order_id.nunique() == dulicated_order.date_of_checkout.nunique() #This means that the same `order_id` has the same `date_of_checkout` time."
      ],
      "execution_count": 0,
      "outputs": [
        {
          "output_type": "display_data",
          "data": {
            "text/html": [
              "<div>\n",
              "<style scoped>\n",
              "    .dataframe tbody tr th:only-of-type {\n",
              "        vertical-align: middle;\n",
              "    }\n",
              "\n",
              "    .dataframe tbody tr th {\n",
              "        vertical-align: top;\n",
              "    }\n",
              "\n",
              "    .dataframe thead th {\n",
              "        text-align: right;\n",
              "    }\n",
              "</style>\n",
              "<table border=\"1\" class=\"dataframe\">\n",
              "  <thead>\n",
              "    <tr style=\"text-align: right;\">\n",
              "      <th></th>\n",
              "      <th>order_id</th>\n",
              "      <th>booking_id</th>\n",
              "      <th>customer_id</th>\n",
              "      <th>net_revenue</th>\n",
              "      <th>gross_merchandise_value</th>\n",
              "      <th>date_of_checkout</th>\n",
              "      <th>date_of_travel</th>\n",
              "      <th>activity_category</th>\n",
              "      <th>device_id</th>\n",
              "    </tr>\n",
              "  </thead>\n",
              "  <tbody>\n",
              "    <tr>\n",
              "      <th>100132</th>\n",
              "      <td>00090095e1865307934fc86c75f46fef</td>\n",
              "      <td>c9d8fdf12f996c85f7da55c9e19bddab</td>\n",
              "      <td>63c1fe933b709a6999160de57d807c70</td>\n",
              "      <td>72.016582</td>\n",
              "      <td>224.727609</td>\n",
              "      <td>2017-04-13T04:49:41.000+02:00</td>\n",
              "      <td>2017-06-16T10:30:00.000+02:00</td>\n",
              "      <td>Day Trip</td>\n",
              "      <td>1</td>\n",
              "    </tr>\n",
              "    <tr>\n",
              "      <th>65732</th>\n",
              "      <td>00090095e1865307934fc86c75f46fef</td>\n",
              "      <td>c46a97de1b57d4c7e3bff0668e7506f2</td>\n",
              "      <td>63c1fe933b709a6999160de57d807c70</td>\n",
              "      <td>119.999356</td>\n",
              "      <td>342.860497</td>\n",
              "      <td>2017-04-13T04:49:41.000+02:00</td>\n",
              "      <td>2017-06-14T07:00:00.000+02:00</td>\n",
              "      <td>Day Trip</td>\n",
              "      <td>1</td>\n",
              "    </tr>\n",
              "    <tr>\n",
              "      <th>82531</th>\n",
              "      <td>001e10595687bab6870d262ba2bc1f54</td>\n",
              "      <td>efeb26896c12b94cada61c28f77dd35b</td>\n",
              "      <td>f823fcde41e9661c76a4380c9edf82d1</td>\n",
              "      <td>23.827768</td>\n",
              "      <td>87.457363</td>\n",
              "      <td>2018-06-19T19:42:55.000+02:00</td>\n",
              "      <td>2018-07-06T08:00:00.000+02:00</td>\n",
              "      <td>Day Trip</td>\n",
              "      <td>1</td>\n",
              "    </tr>\n",
              "    <tr>\n",
              "      <th>81175</th>\n",
              "      <td>001e10595687bab6870d262ba2bc1f54</td>\n",
              "      <td>f06b4744afcffead6ba23c0caaeb5316</td>\n",
              "      <td>f823fcde41e9661c76a4380c9edf82d1</td>\n",
              "      <td>40.844140</td>\n",
              "      <td>149.923445</td>\n",
              "      <td>2018-06-19T19:42:55.000+02:00</td>\n",
              "      <td>2018-07-08T06:50:00.000+02:00</td>\n",
              "      <td>Day Trip</td>\n",
              "      <td>1</td>\n",
              "    </tr>\n",
              "    <tr>\n",
              "      <th>88811</th>\n",
              "      <td>001e10595687bab6870d262ba2bc1f54</td>\n",
              "      <td>1be449f519befc1508574d9f6c18dad5</td>\n",
              "      <td>f823fcde41e9661c76a4380c9edf82d1</td>\n",
              "      <td>52.115668</td>\n",
              "      <td>162.406966</td>\n",
              "      <td>2018-06-19T19:42:55.000+02:00</td>\n",
              "      <td>2018-07-05T08:55:00.000+02:00</td>\n",
              "      <td>Day Trip</td>\n",
              "      <td>1</td>\n",
              "    </tr>\n",
              "  </tbody>\n",
              "</table>\n",
              "</div>"
            ],
            "text/plain": [
              "                                order_id  ... device_id\n",
              "100132  00090095e1865307934fc86c75f46fef  ...         1\n",
              "65732   00090095e1865307934fc86c75f46fef  ...         1\n",
              "82531   001e10595687bab6870d262ba2bc1f54  ...         1\n",
              "81175   001e10595687bab6870d262ba2bc1f54  ...         1\n",
              "88811   001e10595687bab6870d262ba2bc1f54  ...         1\n",
              "\n",
              "[5 rows x 9 columns]"
            ]
          },
          "metadata": {
            "tags": []
          }
        },
        {
          "output_type": "execute_result",
          "data": {
            "text/plain": [
              "True"
            ]
          },
          "metadata": {
            "tags": []
          },
          "execution_count": 76
        }
      ]
    },
    {
      "cell_type": "markdown",
      "metadata": {
        "id": "YKGZmO5THyEH",
        "colab_type": "text"
      },
      "source": [
        "\n",
        "\n",
        "---\n"
      ]
    },
    {
      "cell_type": "markdown",
      "metadata": {
        "id": "RVsvQaJ5Hm6b",
        "colab_type": "text"
      },
      "source": [
        "## 1.2\n",
        "- <b> Plot a count of bookings over time. Point out anything you notice about the timeseries. </b>\n",
        "\n",
        "\n",
        "---\n"
      ]
    },
    {
      "cell_type": "markdown",
      "metadata": {
        "id": "hIZ168lnYmpV",
        "colab_type": "text"
      },
      "source": [
        "- `date_of_checkout` analysis & `date_of_travel` analysis\n",
        "\n",
        "  * How many bookings over time\n",
        "  * How much net revenue (NR) GYG gain over the year?"
      ]
    },
    {
      "cell_type": "code",
      "metadata": {
        "id": "wlzgFM8gHrdY",
        "colab_type": "code",
        "outputId": "9f907c02-02c1-4b82-99f0-d4a29d491bd2",
        "colab": {
          "base_uri": "https://localhost:8080/",
          "height": 309
        }
      },
      "source": [
        "# First, let's convert the `date_of_checkout` and `date_of_travel` into pandas datetime format\n",
        "booking['date_of_checkout'] = pd.to_datetime(booking['date_of_checkout'], utc=True)\n",
        "booking['date_of_travel'] = pd.to_datetime(booking['date_of_travel'], utc=True)\n",
        "booking.head()"
      ],
      "execution_count": 0,
      "outputs": [
        {
          "output_type": "execute_result",
          "data": {
            "text/html": [
              "<div>\n",
              "<style scoped>\n",
              "    .dataframe tbody tr th:only-of-type {\n",
              "        vertical-align: middle;\n",
              "    }\n",
              "\n",
              "    .dataframe tbody tr th {\n",
              "        vertical-align: top;\n",
              "    }\n",
              "\n",
              "    .dataframe thead th {\n",
              "        text-align: right;\n",
              "    }\n",
              "</style>\n",
              "<table border=\"1\" class=\"dataframe\">\n",
              "  <thead>\n",
              "    <tr style=\"text-align: right;\">\n",
              "      <th></th>\n",
              "      <th>order_id</th>\n",
              "      <th>booking_id</th>\n",
              "      <th>customer_id</th>\n",
              "      <th>net_revenue</th>\n",
              "      <th>gross_merchandise_value</th>\n",
              "      <th>date_of_checkout</th>\n",
              "      <th>date_of_travel</th>\n",
              "      <th>activity_category</th>\n",
              "      <th>device_id</th>\n",
              "    </tr>\n",
              "  </thead>\n",
              "  <tbody>\n",
              "    <tr>\n",
              "      <th>0</th>\n",
              "      <td>ea647a26545133eb1178627c660eb307</td>\n",
              "      <td>79110c8c61651a17c71d36d1ff400902</td>\n",
              "      <td>2e08815f0bc331f3c8239676b9755701</td>\n",
              "      <td>76.416113</td>\n",
              "      <td>362.809890</td>\n",
              "      <td>2017-08-04 21:31:19+00:00</td>\n",
              "      <td>2017-08-06 18:00:00+00:00</td>\n",
              "      <td>City Cruise</td>\n",
              "      <td>1</td>\n",
              "    </tr>\n",
              "    <tr>\n",
              "      <th>1</th>\n",
              "      <td>c9d995fdd3f8f46113f72719428e58c0</td>\n",
              "      <td>cb3f1a6b758322c3750297bbbba75162</td>\n",
              "      <td>99a84ab22128410a7ca82a8848314880</td>\n",
              "      <td>30.105888</td>\n",
              "      <td>100.377201</td>\n",
              "      <td>2018-07-08 13:48:15+00:00</td>\n",
              "      <td>2018-07-11 10:15:00+00:00</td>\n",
              "      <td>City Cruise</td>\n",
              "      <td>3</td>\n",
              "    </tr>\n",
              "    <tr>\n",
              "      <th>2</th>\n",
              "      <td>838a05584192eab5758dc76eb8754382</td>\n",
              "      <td>1d84c6ef74f4213bc111a31230e75d18</td>\n",
              "      <td>7d2de46dab587a091d4d795f3466ec02</td>\n",
              "      <td>16.083138</td>\n",
              "      <td>41.534976</td>\n",
              "      <td>2017-08-17 13:45:36+00:00</td>\n",
              "      <td>2017-08-17 07:30:00+00:00</td>\n",
              "      <td>Attraction Ticket</td>\n",
              "      <td>3</td>\n",
              "    </tr>\n",
              "    <tr>\n",
              "      <th>3</th>\n",
              "      <td>c552f12c32f6e4eaf8b67b088ba263ed</td>\n",
              "      <td>bf7f177122241fb49d8905a3c22a28c8</td>\n",
              "      <td>c8899bd2bdc56ef116a38ec0f2c2cfa2</td>\n",
              "      <td>13.950031</td>\n",
              "      <td>76.161595</td>\n",
              "      <td>2017-08-31 03:33:30+00:00</td>\n",
              "      <td>2017-09-02 12:15:00+00:00</td>\n",
              "      <td>Attraction Ticket</td>\n",
              "      <td>2</td>\n",
              "    </tr>\n",
              "    <tr>\n",
              "      <th>4</th>\n",
              "      <td>7474f90401e812a747c518061a0e964c</td>\n",
              "      <td>2b1b6db082b298d7a69d683d9415ecfe</td>\n",
              "      <td>e408bdd3d03e4f4189f48f0e8e9c2ec2</td>\n",
              "      <td>12.713799</td>\n",
              "      <td>51.909630</td>\n",
              "      <td>2018-08-20 17:35:47+00:00</td>\n",
              "      <td>2018-08-21 08:00:00+00:00</td>\n",
              "      <td>Attraction Ticket</td>\n",
              "      <td>2</td>\n",
              "    </tr>\n",
              "  </tbody>\n",
              "</table>\n",
              "</div>"
            ],
            "text/plain": [
              "                           order_id  ... device_id\n",
              "0  ea647a26545133eb1178627c660eb307  ...         1\n",
              "1  c9d995fdd3f8f46113f72719428e58c0  ...         3\n",
              "2  838a05584192eab5758dc76eb8754382  ...         3\n",
              "3  c552f12c32f6e4eaf8b67b088ba263ed  ...         2\n",
              "4  7474f90401e812a747c518061a0e964c  ...         2\n",
              "\n",
              "[5 rows x 9 columns]"
            ]
          },
          "metadata": {
            "tags": []
          },
          "execution_count": 77
        }
      ]
    },
    {
      "cell_type": "code",
      "metadata": {
        "id": "IQ9FNvt_2nt2",
        "colab_type": "code",
        "outputId": "b7dca65f-9651-4a9f-d336-d747109be8b1",
        "colab": {
          "base_uri": "https://localhost:8080/",
          "height": 837
        }
      },
      "source": [
        "booking_by_checkout = booking.groupby(booking.date_of_checkout.dt.to_period('M'))[['net_revenue', 'gross_merchandise_value']].sum()\n",
        "booking_by_checkout.plot(subplots=True,\n",
        "                           sharex=True,\n",
        "                           figsize=(18,12),\n",
        "                           marker='o',\n",
        "                           markersize=3,\n",
        "                         title='Time Series On Net Revenue and Gross Value')\n",
        "plt.xlabel('Time (Year, Month)')\n",
        "plt.show()\n",
        "\n",
        "save_fig('nr_gmv_over_time_lineplot')"
      ],
      "execution_count": 0,
      "outputs": [
        {
          "output_type": "stream",
          "text": [
            "/usr/local/lib/python3.6/dist-packages/pandas/core/arrays/datetimes.py:1269: UserWarning: Converting to PeriodArray/Index representation will drop timezone information.\n",
            "  UserWarning,\n"
          ],
          "name": "stderr"
        },
        {
          "output_type": "display_data",
          "data": {
            "image/png": "[encoded data removed]",
            "text/plain": [
              "<Figure size 1296x864 with 2 Axes>"
            ]
          },
          "metadata": {
            "tags": []
          }
        },
        {
          "output_type": "stream",
          "text": [
            "Saving images:  nr_gmv_over_time_lineplot\n"
          ],
          "name": "stdout"
        },
        {
          "output_type": "display_data",
          "data": {
            "text/plain": [
              "<Figure size 432x288 with 0 Axes>"
            ]
          },
          "metadata": {
            "tags": []
          }
        }
      ]
    },
    {
      "cell_type": "markdown",
      "metadata": {
        "id": "fUvlrJImt2Cn",
        "colab_type": "text"
      },
      "source": [
        "**Solution and Justification**\n",
        "\n",
        "Net revenue and gross merchandise value have the same trends, where the peaks are in summer July in both 2017 and 2018, from where the value go down and reach to lowest in winter November. Based on this behavior, marketing team may offer campaigns in winter in order to boost revenues.\n",
        "\n",
        "Compared to 2017, both net revenue and gross merchandise value almost double in summer in 2018. If we want to find out what causes this drastic change, we can collect extra attributes to investigate further."
      ]
    },
    {
      "cell_type": "markdown",
      "metadata": {
        "id": "jrAgmSAqwkW0",
        "colab_type": "text"
      },
      "source": [
        "## 1.3"
      ]
    },
    {
      "cell_type": "markdown",
      "metadata": {
        "id": "2NH83Bu8ws9F",
        "colab_type": "text"
      },
      "source": [
        "---\n",
        "\n",
        "\n",
        "* <b> Analyse our activity categories. Tell us anything interesting you find about how they differ in net revenue (NR) and gross merchandise value (GMV). Are there\n",
        "other differences between categories that you notice? </b>\n",
        "\n"
      ]
    },
    {
      "cell_type": "code",
      "metadata": {
        "id": "mSIsYuBhOvqb",
        "colab_type": "code",
        "outputId": "ce1e97ee-a6eb-497f-dc38-faa05a6f0edd",
        "colab": {
          "base_uri": "https://localhost:8080/",
          "height": 746
        }
      },
      "source": [
        "# import seaborn\n",
        "import seaborn as sns\n",
        "\n",
        "# Create a barplot with each activity by year shown as a different color\n",
        "fig, (ax1, ax2) = plt.subplots(2, 1, sharex=True, figsize=(15, 10))\n",
        "\n",
        "sns.barplot(data=booking,\n",
        "         y='net_revenue',\n",
        "         x='activity_category',\n",
        "         hue=booking.date_of_checkout.dt.year,\n",
        "         ax=ax1)\n",
        "ax1.set_ylabel('Net Revenue')\n",
        "ax1.legend(loc='upper left')\n",
        "ax1.set_xlabel('')\n",
        "#ax1.set_xticklabels(ax1.get_xticklabels(), rotation=45)\n",
        "\n",
        "sns.barplot(data=booking,\n",
        "         y='gross_merchandise_value',\n",
        "         x='activity_category',\n",
        "         hue=booking.date_of_checkout.dt.year,\n",
        "         ax=ax2)\n",
        "ax2.set_ylabel('Gross Merchandise Value')\n",
        "ax2.legend(loc='upper left')\n",
        "ax2.set_xticklabels(ax2.get_xticklabels(), rotation=45)\n",
        "ax2.set_xlabel('Activity Category')\n",
        "\n",
        "fig.suptitle('Barplot of monetary value by Activity')\n",
        "plt.subplots_adjust(hspace=0.6)\n",
        "\n",
        "save_fig('Barplot_of_monetary_value_by_Activity')"
      ],
      "execution_count": 0,
      "outputs": [
        {
          "output_type": "stream",
          "text": [
            "Saving images:  Barplot_of_monetary_value_by_Activity\n"
          ],
          "name": "stdout"
        },
        {
          "output_type": "display_data",
          "data": {
            "image/png": "[encoded data removed]",
            "text/plain": [
              "<Figure size 1080x720 with 2 Axes>"
            ]
          },
          "metadata": {
            "tags": []
          }
        }
      ]
    },
    {
      "cell_type": "markdown",
      "metadata": {
        "id": "l03iNfYzJx6V",
        "colab_type": "text"
      },
      "source": [
        "Before jumping to any conclusions, let's also calculate the yearly commision rate (nr/gmv) and average cost per booking by categories and years."
      ]
    },
    {
      "cell_type": "code",
      "metadata": {
        "id": "A71G0SC8dlFB",
        "colab_type": "code",
        "outputId": "6ec9bb34-90be-4a12-9c76-ffb13b19ba6b",
        "colab": {
          "base_uri": "https://localhost:8080/",
          "height": 452
        }
      },
      "source": [
        "rev_ = booking.groupby([booking.activity_category, booking.date_of_checkout.dt.year])[['net_revenue', 'gross_merchandise_value']].sum()\n",
        "rev_['nr_yearly_ratio'] = (rev_.net_revenue/rev_.gross_merchandise_value)*100\n",
        "rev_ = rev_.round(2).unstack('date_of_checkout', fill_value=0)\n",
        "\n",
        "booking['cost_ratio'] = ((booking['gross_merchandise_value'] - booking['net_revenue'])/booking['gross_merchandise_value']).round(2)\n",
        "cost_summary_by_activity = booking.groupby([booking.activity_category, booking.date_of_checkout.dt.year])['cost_ratio'].mean().to_frame('avg_cost_percentage')\n",
        "cost_ = (cost_summary_by_activity*100).round(2).unstack('date_of_checkout',fill_value=0)\n",
        "\n",
        "pd.concat([rev_, cost_], axis=1)"
      ],
      "execution_count": 0,
      "outputs": [
        {
          "output_type": "execute_result",
          "data": {
            "text/html": [
              "<div>\n",
              "<style scoped>\n",
              "    .dataframe tbody tr th:only-of-type {\n",
              "        vertical-align: middle;\n",
              "    }\n",
              "\n",
              "    .dataframe tbody tr th {\n",
              "        vertical-align: top;\n",
              "    }\n",
              "\n",
              "    .dataframe thead tr th {\n",
              "        text-align: left;\n",
              "    }\n",
              "\n",
              "    .dataframe thead tr:last-of-type th {\n",
              "        text-align: right;\n",
              "    }\n",
              "</style>\n",
              "<table border=\"1\" class=\"dataframe\">\n",
              "  <thead>\n",
              "    <tr>\n",
              "      <th></th>\n",
              "      <th colspan=\"3\" halign=\"left\">net_revenue</th>\n",
              "      <th colspan=\"3\" halign=\"left\">gross_merchandise_value</th>\n",
              "      <th colspan=\"3\" halign=\"left\">nr_yearly_ratio</th>\n",
              "      <th colspan=\"3\" halign=\"left\">avg_cost_percentage</th>\n",
              "    </tr>\n",
              "    <tr>\n",
              "      <th>date_of_checkout</th>\n",
              "      <th>2016</th>\n",
              "      <th>2017</th>\n",
              "      <th>2018</th>\n",
              "      <th>2016</th>\n",
              "      <th>2017</th>\n",
              "      <th>2018</th>\n",
              "      <th>2016</th>\n",
              "      <th>2017</th>\n",
              "      <th>2018</th>\n",
              "      <th>2016</th>\n",
              "      <th>2017</th>\n",
              "      <th>2018</th>\n",
              "    </tr>\n",
              "    <tr>\n",
              "      <th>activity_category</th>\n",
              "      <th></th>\n",
              "      <th></th>\n",
              "      <th></th>\n",
              "      <th></th>\n",
              "      <th></th>\n",
              "      <th></th>\n",
              "      <th></th>\n",
              "      <th></th>\n",
              "      <th></th>\n",
              "      <th></th>\n",
              "      <th></th>\n",
              "      <th></th>\n",
              "    </tr>\n",
              "  </thead>\n",
              "  <tbody>\n",
              "    <tr>\n",
              "      <th>Attraction Ticket</th>\n",
              "      <td>0.0</td>\n",
              "      <td>306726.45</td>\n",
              "      <td>707000.48</td>\n",
              "      <td>0.00</td>\n",
              "      <td>1279319.21</td>\n",
              "      <td>2787758.45</td>\n",
              "      <td>0.0</td>\n",
              "      <td>23.98</td>\n",
              "      <td>25.36</td>\n",
              "      <td>0.0</td>\n",
              "      <td>75.49</td>\n",
              "      <td>74.44</td>\n",
              "    </tr>\n",
              "    <tr>\n",
              "      <th>Attraction Walking Tour</th>\n",
              "      <td>28.4</td>\n",
              "      <td>163399.06</td>\n",
              "      <td>290110.54</td>\n",
              "      <td>218.46</td>\n",
              "      <td>920987.75</td>\n",
              "      <td>1588504.23</td>\n",
              "      <td>13.0</td>\n",
              "      <td>17.74</td>\n",
              "      <td>18.26</td>\n",
              "      <td>87.0</td>\n",
              "      <td>82.35</td>\n",
              "      <td>81.88</td>\n",
              "    </tr>\n",
              "    <tr>\n",
              "      <th>City Card</th>\n",
              "      <td>0.0</td>\n",
              "      <td>17343.11</td>\n",
              "      <td>31344.06</td>\n",
              "      <td>0.00</td>\n",
              "      <td>97351.89</td>\n",
              "      <td>172046.55</td>\n",
              "      <td>0.0</td>\n",
              "      <td>17.81</td>\n",
              "      <td>18.22</td>\n",
              "      <td>0.0</td>\n",
              "      <td>83.67</td>\n",
              "      <td>82.98</td>\n",
              "    </tr>\n",
              "    <tr>\n",
              "      <th>City Cruise</th>\n",
              "      <td>0.0</td>\n",
              "      <td>177525.10</td>\n",
              "      <td>279798.30</td>\n",
              "      <td>0.00</td>\n",
              "      <td>633753.09</td>\n",
              "      <td>916754.30</td>\n",
              "      <td>0.0</td>\n",
              "      <td>28.01</td>\n",
              "      <td>30.52</td>\n",
              "      <td>0.0</td>\n",
              "      <td>69.08</td>\n",
              "      <td>66.88</td>\n",
              "    </tr>\n",
              "    <tr>\n",
              "      <th>City Motorized Tour</th>\n",
              "      <td>0.0</td>\n",
              "      <td>135733.66</td>\n",
              "      <td>266810.15</td>\n",
              "      <td>0.00</td>\n",
              "      <td>564081.62</td>\n",
              "      <td>1022322.87</td>\n",
              "      <td>0.0</td>\n",
              "      <td>24.06</td>\n",
              "      <td>26.10</td>\n",
              "      <td>0.0</td>\n",
              "      <td>75.28</td>\n",
              "      <td>73.26</td>\n",
              "    </tr>\n",
              "    <tr>\n",
              "      <th>City Walking Tour</th>\n",
              "      <td>0.0</td>\n",
              "      <td>70647.37</td>\n",
              "      <td>151161.63</td>\n",
              "      <td>0.00</td>\n",
              "      <td>285380.41</td>\n",
              "      <td>571259.38</td>\n",
              "      <td>0.0</td>\n",
              "      <td>24.76</td>\n",
              "      <td>26.46</td>\n",
              "      <td>0.0</td>\n",
              "      <td>74.73</td>\n",
              "      <td>73.21</td>\n",
              "    </tr>\n",
              "    <tr>\n",
              "      <th>Day Trip</th>\n",
              "      <td>0.0</td>\n",
              "      <td>354288.14</td>\n",
              "      <td>799207.53</td>\n",
              "      <td>0.00</td>\n",
              "      <td>1336917.72</td>\n",
              "      <td>2900812.93</td>\n",
              "      <td>0.0</td>\n",
              "      <td>26.50</td>\n",
              "      <td>27.55</td>\n",
              "      <td>0.0</td>\n",
              "      <td>72.83</td>\n",
              "      <td>71.62</td>\n",
              "    </tr>\n",
              "    <tr>\n",
              "      <th>Hop On Hop Off</th>\n",
              "      <td>0.0</td>\n",
              "      <td>46742.35</td>\n",
              "      <td>70780.47</td>\n",
              "      <td>0.00</td>\n",
              "      <td>164014.63</td>\n",
              "      <td>236408.73</td>\n",
              "      <td>0.0</td>\n",
              "      <td>28.50</td>\n",
              "      <td>29.94</td>\n",
              "      <td>0.0</td>\n",
              "      <td>72.03</td>\n",
              "      <td>70.55</td>\n",
              "    </tr>\n",
              "    <tr>\n",
              "      <th>Multi Day Trip</th>\n",
              "      <td>0.0</td>\n",
              "      <td>11841.46</td>\n",
              "      <td>34103.89</td>\n",
              "      <td>0.00</td>\n",
              "      <td>47740.07</td>\n",
              "      <td>130720.79</td>\n",
              "      <td>0.0</td>\n",
              "      <td>24.80</td>\n",
              "      <td>26.09</td>\n",
              "      <td>0.0</td>\n",
              "      <td>74.42</td>\n",
              "      <td>71.87</td>\n",
              "    </tr>\n",
              "    <tr>\n",
              "      <th>Other</th>\n",
              "      <td>0.0</td>\n",
              "      <td>57677.73</td>\n",
              "      <td>113086.84</td>\n",
              "      <td>0.00</td>\n",
              "      <td>244955.36</td>\n",
              "      <td>443888.68</td>\n",
              "      <td>0.0</td>\n",
              "      <td>23.55</td>\n",
              "      <td>25.48</td>\n",
              "      <td>0.0</td>\n",
              "      <td>75.62</td>\n",
              "      <td>73.90</td>\n",
              "    </tr>\n",
              "    <tr>\n",
              "      <th>Transfer</th>\n",
              "      <td>0.0</td>\n",
              "      <td>10900.36</td>\n",
              "      <td>20763.71</td>\n",
              "      <td>0.00</td>\n",
              "      <td>43549.91</td>\n",
              "      <td>79638.05</td>\n",
              "      <td>0.0</td>\n",
              "      <td>25.03</td>\n",
              "      <td>26.07</td>\n",
              "      <td>0.0</td>\n",
              "      <td>75.60</td>\n",
              "      <td>74.03</td>\n",
              "    </tr>\n",
              "  </tbody>\n",
              "</table>\n",
              "</div>"
            ],
            "text/plain": [
              "                        net_revenue             ... avg_cost_percentage       \n",
              "date_of_checkout               2016       2017  ...                2017   2018\n",
              "activity_category                               ...                           \n",
              "Attraction Ticket               0.0  306726.45  ...               75.49  74.44\n",
              "Attraction Walking Tour        28.4  163399.06  ...               82.35  81.88\n",
              "City Card                       0.0   17343.11  ...               83.67  82.98\n",
              "City Cruise                     0.0  177525.10  ...               69.08  66.88\n",
              "City Motorized Tour             0.0  135733.66  ...               75.28  73.26\n",
              "City Walking Tour               0.0   70647.37  ...               74.73  73.21\n",
              "Day Trip                        0.0  354288.14  ...               72.83  71.62\n",
              "Hop On Hop Off                  0.0   46742.35  ...               72.03  70.55\n",
              "Multi Day Trip                  0.0   11841.46  ...               74.42  71.87\n",
              "Other                           0.0   57677.73  ...               75.62  73.90\n",
              "Transfer                        0.0   10900.36  ...               75.60  74.03\n",
              "\n",
              "[11 rows x 12 columns]"
            ]
          },
          "metadata": {
            "tags": []
          },
          "execution_count": 80
        }
      ]
    },
    {
      "cell_type": "markdown",
      "metadata": {
        "id": "QbNDQkTjTVHZ",
        "colab_type": "text"
      },
      "source": [
        "**Solution and Justification:**\n",
        "\n",
        "Above two graphs show the distribution of bookings with <b>Net Revenue (NR)</b> and <b>Gross Merchandise Value(GMV)</b> by activity and years in different colors. The <b>`Multi Day Trip`</b> is the most profitable product in terms of net amount by each booking, with a long tail in high end indicating extreme large amount (outlier) gained from consumers. This might be caused by the choise of different city under the same product. The average of GMV in this category is ${€}$605, leading to average ${€}$156 NR.\n",
        "\n",
        "The 2nd and 3rd profitable products are <b>`Day Trip`</b> and <b>`City Motorized Tour`</b> in 2017 and 2018.\n",
        "\n",
        "Notice that it shows <b>`Attraction Walking Tour`</b> had a booking whose NR was the second largest in 2016, this number is supported by only 1 booking and such category does not exist in 2017 nor 2018. If we are interested in reviving this product, we can collect more data in this category for investigation.\n",
        "\n",
        "Although the largest NR is gained from <b>`Multi Day Trip`</b>,  due to high cost ratio, its profitable ratio falls behind <b>`City Cruise`</b> (<u>2017: 28.01% </u>, <u>2018: 30.52%</u>) and <b>`Hop On and Hop Off`</b> (<u>2017: 28.50%</u>, <u>2018: 29.94%</u>) product. If we shift focus to high return ratio, we can certainly come up with marketing campaign on these two products.\n",
        "\n",
        "Besides revenue, our cost of each activity products see about 1-3% of drop from 2017 to 2018. `City Cruise`'s cost drops by 3.8%, followed by `Multi Day Trip` by 2.6%."
      ]
    },
    {
      "cell_type": "markdown",
      "metadata": {
        "id": "oUnxYr39nB3x",
        "colab_type": "text"
      },
      "source": [
        "## 1.4"
      ]
    },
    {
      "cell_type": "markdown",
      "metadata": {
        "id": "ULW0dTq_nFbB",
        "colab_type": "text"
      },
      "source": [
        "* <b> Some devices have unique booking behaviour. What is unique about device_ids 4 and 5? </b>\n",
        "\n",
        "\n",
        "---\n",
        "\n"
      ]
    },
    {
      "cell_type": "code",
      "metadata": {
        "id": "fCbmAWyYg3Gc",
        "colab_type": "code",
        "outputId": "8a866dfb-4395-4f2b-e903-580176c59935",
        "colab": {
          "base_uri": "https://localhost:8080/",
          "height": 515
        }
      },
      "source": [
        "# convert `device_id` to categorical type\n",
        "booking['device_id'] = booking['device_id'].astype('object')\n",
        "\n",
        "# subset the data to reduce analysis to only 2017 and 2018, due to the lack of data of 2016\n",
        "booking_2017_2018 = booking[booking.date_of_checkout.dt.year >= 2017]\n",
        "device_group = booking_2017_2018.groupby([booking_2017_2018.device_id, booking_2017_2018.date_of_checkout.dt.year])\n",
        "device_user = device_group['customer_id'].nunique().to_frame('number_of_customers').unstack('date_of_checkout', fill_value=0)\n",
        "device_rev = device_group['net_revenue'].sum().to_frame('total_revenue').unstack('date_of_checkout', fill_value=0)\n",
        "\n",
        "\n",
        "display(device_user)\n",
        "display(device_rev.round(2))"
      ],
      "execution_count": 0,
      "outputs": [
        {
          "output_type": "display_data",
          "data": {
            "text/html": [
              "<div>\n",
              "<style scoped>\n",
              "    .dataframe tbody tr th:only-of-type {\n",
              "        vertical-align: middle;\n",
              "    }\n",
              "\n",
              "    .dataframe tbody tr th {\n",
              "        vertical-align: top;\n",
              "    }\n",
              "\n",
              "    .dataframe thead tr th {\n",
              "        text-align: left;\n",
              "    }\n",
              "\n",
              "    .dataframe thead tr:last-of-type th {\n",
              "        text-align: right;\n",
              "    }\n",
              "</style>\n",
              "<table border=\"1\" class=\"dataframe\">\n",
              "  <thead>\n",
              "    <tr>\n",
              "      <th></th>\n",
              "      <th colspan=\"2\" halign=\"left\">number_of_customers</th>\n",
              "    </tr>\n",
              "    <tr>\n",
              "      <th>date_of_checkout</th>\n",
              "      <th>2017</th>\n",
              "      <th>2018</th>\n",
              "    </tr>\n",
              "    <tr>\n",
              "      <th>device_id</th>\n",
              "      <th></th>\n",
              "      <th></th>\n",
              "    </tr>\n",
              "  </thead>\n",
              "  <tbody>\n",
              "    <tr>\n",
              "      <th>1</th>\n",
              "      <td>16907</td>\n",
              "      <td>28783</td>\n",
              "    </tr>\n",
              "    <tr>\n",
              "      <th>2</th>\n",
              "      <td>13586</td>\n",
              "      <td>27919</td>\n",
              "    </tr>\n",
              "    <tr>\n",
              "      <th>3</th>\n",
              "      <td>3150</td>\n",
              "      <td>4895</td>\n",
              "    </tr>\n",
              "    <tr>\n",
              "      <th>4</th>\n",
              "      <td>1138</td>\n",
              "      <td>3081</td>\n",
              "    </tr>\n",
              "    <tr>\n",
              "      <th>5</th>\n",
              "      <td>244</td>\n",
              "      <td>672</td>\n",
              "    </tr>\n",
              "  </tbody>\n",
              "</table>\n",
              "</div>"
            ],
            "text/plain": [
              "                 number_of_customers       \n",
              "date_of_checkout                2017   2018\n",
              "device_id                                  \n",
              "1                              16907  28783\n",
              "2                              13586  27919\n",
              "3                               3150   4895\n",
              "4                               1138   3081\n",
              "5                                244    672"
            ]
          },
          "metadata": {
            "tags": []
          }
        },
        {
          "output_type": "display_data",
          "data": {
            "text/html": [
              "<div>\n",
              "<style scoped>\n",
              "    .dataframe tbody tr th:only-of-type {\n",
              "        vertical-align: middle;\n",
              "    }\n",
              "\n",
              "    .dataframe tbody tr th {\n",
              "        vertical-align: top;\n",
              "    }\n",
              "\n",
              "    .dataframe thead tr th {\n",
              "        text-align: left;\n",
              "    }\n",
              "\n",
              "    .dataframe thead tr:last-of-type th {\n",
              "        text-align: right;\n",
              "    }\n",
              "</style>\n",
              "<table border=\"1\" class=\"dataframe\">\n",
              "  <thead>\n",
              "    <tr>\n",
              "      <th></th>\n",
              "      <th colspan=\"2\" halign=\"left\">total_revenue</th>\n",
              "    </tr>\n",
              "    <tr>\n",
              "      <th>date_of_checkout</th>\n",
              "      <th>2017</th>\n",
              "      <th>2018</th>\n",
              "    </tr>\n",
              "    <tr>\n",
              "      <th>device_id</th>\n",
              "      <th></th>\n",
              "      <th></th>\n",
              "    </tr>\n",
              "  </thead>\n",
              "  <tbody>\n",
              "    <tr>\n",
              "      <th>1</th>\n",
              "      <td>761041.43</td>\n",
              "      <td>1468027.92</td>\n",
              "    </tr>\n",
              "    <tr>\n",
              "      <th>2</th>\n",
              "      <td>414105.22</td>\n",
              "      <td>918902.55</td>\n",
              "    </tr>\n",
              "    <tr>\n",
              "      <th>3</th>\n",
              "      <td>120479.94</td>\n",
              "      <td>208321.68</td>\n",
              "    </tr>\n",
              "    <tr>\n",
              "      <th>4</th>\n",
              "      <td>47286.24</td>\n",
              "      <td>140590.41</td>\n",
              "    </tr>\n",
              "    <tr>\n",
              "      <th>5</th>\n",
              "      <td>9911.96</td>\n",
              "      <td>28325.03</td>\n",
              "    </tr>\n",
              "  </tbody>\n",
              "</table>\n",
              "</div>"
            ],
            "text/plain": [
              "                 total_revenue            \n",
              "date_of_checkout          2017        2018\n",
              "device_id                                 \n",
              "1                    761041.43  1468027.92\n",
              "2                    414105.22   918902.55\n",
              "3                    120479.94   208321.68\n",
              "4                     47286.24   140590.41\n",
              "5                      9911.96    28325.03"
            ]
          },
          "metadata": {
            "tags": []
          }
        }
      ]
    },
    {
      "cell_type": "markdown",
      "metadata": {
        "id": "V2eaMt7eqVZt",
        "colab_type": "text"
      },
      "source": [
        "**Solution and Justification**\n",
        "\n",
        "From 2017 to 2018, the user base ratio of device 4 and 5 has increased drastically by almost tripple. More interestingly, they lead to huge impact on revenue by 3 to 4 times more from 2017 to 2018. We can consider to transfer the similar technology/campaign strategy from these two devices to other three devices 1 to 3."
      ]
    },
    {
      "cell_type": "markdown",
      "metadata": {
        "id": "3Ssl9W9i6vJW",
        "colab_type": "text"
      },
      "source": [
        "# Task 2"
      ]
    },
    {
      "cell_type": "markdown",
      "metadata": {
        "id": "gJiN6ryB61Np",
        "colab_type": "text"
      },
      "source": [
        "\n",
        "\n",
        "---\n",
        "\n",
        "\n",
        "This data set is based on our shopping cart data. We would like you to discover an insight into our business using this data set. You can take your analysis in any direction you like. We are looking to understand how you think about the business and how you would analyse a data set with no specific question being asked.\n",
        "\n",
        "Tip: A good place to start is to think of a business question based on the data\n",
        "provided."
      ]
    },
    {
      "cell_type": "markdown",
      "metadata": {
        "id": "DMxYZpIz8dZ8",
        "colab_type": "text"
      },
      "source": [
        "Description of attributes:\n",
        "\n",
        "\n",
        "* `date_of_creation`: Indicates the creation date. Format is: YYYY-MM-DD HH:MM:SS.\n",
        "* `date_of_checkout`: Indicates the date and time of checkout. Format is: YYYY-MM-DD HH:MM:SS\n",
        "* `bookings`: Indicates the total number of bookings associated with a shopping cart. A shopping cart can have one or more bookings.\n",
        "* `purchase_type_id`: Uniquely identifies the type of purchase. Typical purchase types include 'Repeat' which indicates a repeat customer, and 'Same Trip' which indicates the shopping cart is for the same trip.\n",
        "* `is_fraud`: Indicates if fraud is involved\n",
        "* `week`: Indicates the week of creation.\n",
        "* `tour_category_id`: Uniquely identifies a tour category.\n",
        "* `date_of_travel`: Indicates the date when activity will take place. Format is: YYYY-MM-DD HH:MM:SS\n",
        "* `shopping_cart_id_a`: Uniquely identifies a shopping cart. Shopping carts are also commonly referred to as baskets or orders.\n",
        "* `customer_id_a`: Uniquely identifies a customer\n",
        "* `customer_address_id_a`: Uniquely identifies a customer address\n",
        "* `billing_id_a Uniquely`: identifies a billing. You can think of the billing as the 'transaction' associated with payment for bookings in the shopping cart. That is, a billing is essentially a shopping cart that has been paid for.\n",
        "* `coupon_id_a`: Unique identifier of a coupon, if applied.\n",
        "* `reseller_id_a`: Uniquely identifies a reseller. Resellers are also commonly referred to as 'partners'\n",
        "* `gyg_campaign_id_a`: Uniquely identifies a GetYourGuide (gyg) campaign.\n",
        "* `currency_id_a`: Uniquely identifies the currency\n",
        "* `shopping_cart_status_id_a`: Uniquely identifies a status for a shopping cart\n",
        "* `coupon_segment_id_a`: Uniquely identifies a coupon segment. A coupon segment is a grouping of a set of coupons\n",
        "* `attribution_id_a`: Uniquely identifies an attribution. Attribution indicates the marketing channel from which the booking originated\n",
        "* `device_id_a`: Uniquely identifies a device. Device refers to technology devices, such as desktop, mobile and tablet\n",
        "* `exchange_rate_a`: Indicates the multiplication factor for converting to euros. If no conversion is required then this column has a 1.\n",
        "* `gmv_a`: The Gross Merchandise Value (gmv)\n",
        "* `gmv_after_coupons_a` The Gross Merchandise Value (gmv) expressed in the local currency\n",
        "* `visitor_id_a` Uniquely identifies a visitor to a site or app. A potential customer is considered a visitor until they either register with us or purchase a booking.\n",
        "* `session_id_a`: Uniquely identifies a user's session. A session is the period between a user opening a GYG web page or mobile app and ending with a\n",
        "logoff or close of the browser/app \n",
        "* `commission_rate_a`: A calculated metric that equals: NR divided by GMV. This is a crucial metric for GYG because\n",
        "it defines what portion of the GMV we retain."
      ]
    },
    {
      "cell_type": "markdown",
      "metadata": {
        "id": "GCNexGYy8VO2",
        "colab_type": "text"
      },
      "source": [
        "## Get Data"
      ]
    },
    {
      "cell_type": "code",
      "metadata": {
        "colab_type": "code",
        "id": "Xpbs1I7j7byp",
        "outputId": "e33aef53-6657-44b1-f392-8405445045f3",
        "colab": {
          "base_uri": "https://localhost:8080/",
          "height": 343
        }
      },
      "source": [
        "# where to download the data and where to store the data\n",
        "URL_PATH_Q2 = 'https://drive.google.com/uc?authuser=0&id=13tGttvW1ZFkrnZyvDxKKqx6hA8Lrtgdl&export=download'\n",
        "\n",
        "def fetch_data_q2(url_path=URL_PATH_Q2, data_path=DATA_PATH):\n",
        "  path = os.path.join(data_path, 'data2.csv')\n",
        "  if not os.path.isdir(data_path):\n",
        "    os.makedirs(data_path)\n",
        "  try:\n",
        "    urllib.request.urlretrieve(url_path, path)\n",
        "    print('Dataset is downloaded in: \\n', path)\n",
        "    return path\n",
        "  except:\n",
        "    print('Please check your url validity.')\n",
        "\n",
        "def load_data_q2(csv_path=CSV_PATH2):\n",
        "  return pd.read_csv(csv_path)\n",
        "\n",
        "CSV_PATH2= fetch_data_q2()\n",
        "shopping = load_data_q2()\n",
        "shopping.head()"
      ],
      "execution_count": 0,
      "outputs": [
        {
          "output_type": "stream",
          "text": [
            "Dataset is downloaded in: \n",
            " datasets/GYG_THT/data2.csv\n"
          ],
          "name": "stdout"
        },
        {
          "output_type": "execute_result",
          "data": {
            "text/html": [
              "<div>\n",
              "<style scoped>\n",
              "    .dataframe tbody tr th:only-of-type {\n",
              "        vertical-align: middle;\n",
              "    }\n",
              "\n",
              "    .dataframe tbody tr th {\n",
              "        vertical-align: top;\n",
              "    }\n",
              "\n",
              "    .dataframe thead th {\n",
              "        text-align: right;\n",
              "    }\n",
              "</style>\n",
              "<table border=\"1\" class=\"dataframe\">\n",
              "  <thead>\n",
              "    <tr style=\"text-align: right;\">\n",
              "      <th></th>\n",
              "      <th>date_of_creation</th>\n",
              "      <th>date_of_checkout</th>\n",
              "      <th>bookings</th>\n",
              "      <th>coupon_information</th>\n",
              "      <th>update_timestamp</th>\n",
              "      <th>cycle_id</th>\n",
              "      <th>cycle_timestamp</th>\n",
              "      <th>purchase_type_id</th>\n",
              "      <th>is_fraud</th>\n",
              "      <th>week</th>\n",
              "      <th>tour_category_id</th>\n",
              "      <th>date_of_travel</th>\n",
              "      <th>commission_rate</th>\n",
              "      <th>shopping_cart_id_a</th>\n",
              "      <th>customer_id_a</th>\n",
              "      <th>customer_address_id_a</th>\n",
              "      <th>billing_id_a</th>\n",
              "      <th>coupon_id_a</th>\n",
              "      <th>reseller_id_a</th>\n",
              "      <th>reseller_campaign_id_a</th>\n",
              "      <th>gyg_campaign_id_a</th>\n",
              "      <th>currency_id_a</th>\n",
              "      <th>shopping_cart_status_id_a</th>\n",
              "      <th>coupon_segment_id_a</th>\n",
              "      <th>attribution_id_a</th>\n",
              "      <th>device_id_a</th>\n",
              "      <th>exchange_rate_a</th>\n",
              "      <th>gmv_a</th>\n",
              "      <th>gmv_after_coupons_a</th>\n",
              "      <th>visitor_id_a</th>\n",
              "      <th>session_id_a</th>\n",
              "      <th>token_a</th>\n",
              "      <th>commission_rate_a</th>\n",
              "    </tr>\n",
              "  </thead>\n",
              "  <tbody>\n",
              "    <tr>\n",
              "      <th>0</th>\n",
              "      <td>2018-09-01T14:49:24.000+02:00</td>\n",
              "      <td>2018-09-01T15:18:03.000+02:00</td>\n",
              "      <td>1</td>\n",
              "      <td>[]</td>\n",
              "      <td>2018-09-01T15:02:58.000+02:00</td>\n",
              "      <td>0</td>\n",
              "      <td>2019-10-15T03:21:00.533+02:00</td>\n",
              "      <td>1</td>\n",
              "      <td>False</td>\n",
              "      <td>2018-08-27T00:00:00.000+02:00</td>\n",
              "      <td>4.0</td>\n",
              "      <td>2018-09-02T09:00:00.000+02:00</td>\n",
              "      <td>25.0</td>\n",
              "      <td>687762823</td>\n",
              "      <td>-1489971149</td>\n",
              "      <td>-2051030396</td>\n",
              "      <td>1092304505</td>\n",
              "      <td>-1670924195</td>\n",
              "      <td>1910520950</td>\n",
              "      <td>-1583472726</td>\n",
              "      <td>-1670924195</td>\n",
              "      <td>-1712319331</td>\n",
              "      <td>-559580957</td>\n",
              "      <td>-559580957</td>\n",
              "      <td>-559580957</td>\n",
              "      <td>1765031574</td>\n",
              "      <td>5.658798</td>\n",
              "      <td>72.359966</td>\n",
              "      <td>72.359966</td>\n",
              "      <td>-1969293373</td>\n",
              "      <td>-1030158483</td>\n",
              "      <td>-1722411927</td>\n",
              "      <td>1470.532217</td>\n",
              "    </tr>\n",
              "    <tr>\n",
              "      <th>1</th>\n",
              "      <td>2018-09-01T16:12:47.000+02:00</td>\n",
              "      <td>2018-09-01T16:17:23.000+02:00</td>\n",
              "      <td>1</td>\n",
              "      <td>[]</td>\n",
              "      <td>2018-09-01T16:16:54.000+02:00</td>\n",
              "      <td>0</td>\n",
              "      <td>2019-10-15T03:21:00.533+02:00</td>\n",
              "      <td>1</td>\n",
              "      <td>False</td>\n",
              "      <td>2018-08-27T00:00:00.000+02:00</td>\n",
              "      <td>1.0</td>\n",
              "      <td>2018-09-12T13:15:00.000+02:00</td>\n",
              "      <td>25.0</td>\n",
              "      <td>2091941823</td>\n",
              "      <td>549284145</td>\n",
              "      <td>2072690586</td>\n",
              "      <td>507456197</td>\n",
              "      <td>-1670924195</td>\n",
              "      <td>-1670924195</td>\n",
              "      <td>933211791</td>\n",
              "      <td>-1670924195</td>\n",
              "      <td>-1712319331</td>\n",
              "      <td>-559580957</td>\n",
              "      <td>-559580957</td>\n",
              "      <td>1765031574</td>\n",
              "      <td>1765031574</td>\n",
              "      <td>5.658798</td>\n",
              "      <td>8.334656</td>\n",
              "      <td>8.334656</td>\n",
              "      <td>2091086248</td>\n",
              "      <td>1962332134</td>\n",
              "      <td>-652614116</td>\n",
              "      <td>1470.532217</td>\n",
              "    </tr>\n",
              "    <tr>\n",
              "      <th>2</th>\n",
              "      <td>2018-09-01T21:56:29.000+02:00</td>\n",
              "      <td>2018-09-01T22:01:36.000+02:00</td>\n",
              "      <td>1</td>\n",
              "      <td>[]</td>\n",
              "      <td>2018-09-01T21:57:59.000+02:00</td>\n",
              "      <td>0</td>\n",
              "      <td>2019-10-15T03:21:00.533+02:00</td>\n",
              "      <td>1</td>\n",
              "      <td>False</td>\n",
              "      <td>2018-08-27T00:00:00.000+02:00</td>\n",
              "      <td>105.0</td>\n",
              "      <td>2018-09-04T12:30:00.000+02:00</td>\n",
              "      <td>15.0</td>\n",
              "      <td>675367423</td>\n",
              "      <td>-885361612</td>\n",
              "      <td>991300386</td>\n",
              "      <td>-832668344</td>\n",
              "      <td>-1670924195</td>\n",
              "      <td>-1895386124</td>\n",
              "      <td>933211791</td>\n",
              "      <td>-1670924195</td>\n",
              "      <td>-1950643591</td>\n",
              "      <td>-559580957</td>\n",
              "      <td>-559580957</td>\n",
              "      <td>-1823081949</td>\n",
              "      <td>1765031574</td>\n",
              "      <td>24.113550</td>\n",
              "      <td>95.929994</td>\n",
              "      <td>95.929994</td>\n",
              "      <td>1418851735</td>\n",
              "      <td>966284657</td>\n",
              "      <td>1508759480</td>\n",
              "      <td>882.319330</td>\n",
              "    </tr>\n",
              "    <tr>\n",
              "      <th>3</th>\n",
              "      <td>2018-09-02T00:25:25.000+02:00</td>\n",
              "      <td>2018-09-02T00:26:47.000+02:00</td>\n",
              "      <td>1</td>\n",
              "      <td>[]</td>\n",
              "      <td>2018-09-02T00:26:08.000+02:00</td>\n",
              "      <td>0</td>\n",
              "      <td>2019-10-15T03:21:00.533+02:00</td>\n",
              "      <td>2</td>\n",
              "      <td>False</td>\n",
              "      <td>2018-08-27T00:00:00.000+02:00</td>\n",
              "      <td>1.0</td>\n",
              "      <td>2018-10-26T10:45:00.000+02:00</td>\n",
              "      <td>30.0</td>\n",
              "      <td>-1682036577</td>\n",
              "      <td>934970287</td>\n",
              "      <td>-296492298</td>\n",
              "      <td>-318408915</td>\n",
              "      <td>-1670924195</td>\n",
              "      <td>1910520950</td>\n",
              "      <td>-1583472726</td>\n",
              "      <td>-1670924195</td>\n",
              "      <td>519220707</td>\n",
              "      <td>-559580957</td>\n",
              "      <td>-559580957</td>\n",
              "      <td>-559580957</td>\n",
              "      <td>-559580957</td>\n",
              "      <td>6.570827</td>\n",
              "      <td>21.497729</td>\n",
              "      <td>21.497729</td>\n",
              "      <td>1665709846</td>\n",
              "      <td>612665010</td>\n",
              "      <td>641025172</td>\n",
              "      <td>1764.638661</td>\n",
              "    </tr>\n",
              "    <tr>\n",
              "      <th>4</th>\n",
              "      <td>2018-09-02T14:56:47.000+02:00</td>\n",
              "      <td>2018-09-02T15:05:28.000+02:00</td>\n",
              "      <td>1</td>\n",
              "      <td>[]</td>\n",
              "      <td>2018-09-02T15:01:53.000+02:00</td>\n",
              "      <td>0</td>\n",
              "      <td>2019-10-15T03:21:00.533+02:00</td>\n",
              "      <td>1</td>\n",
              "      <td>False</td>\n",
              "      <td>2018-08-27T00:00:00.000+02:00</td>\n",
              "      <td>1.0</td>\n",
              "      <td>2018-09-12T09:30:00.000+02:00</td>\n",
              "      <td>25.0</td>\n",
              "      <td>1768303823</td>\n",
              "      <td>-1355917228</td>\n",
              "      <td>425696601</td>\n",
              "      <td>662506702</td>\n",
              "      <td>-1670924195</td>\n",
              "      <td>1910520950</td>\n",
              "      <td>-180765446</td>\n",
              "      <td>-1670924195</td>\n",
              "      <td>-797927272</td>\n",
              "      <td>-559580957</td>\n",
              "      <td>-559580957</td>\n",
              "      <td>1023896466</td>\n",
              "      <td>-559580957</td>\n",
              "      <td>5.069689</td>\n",
              "      <td>12.373175</td>\n",
              "      <td>12.373175</td>\n",
              "      <td>560383644</td>\n",
              "      <td>-1824515114</td>\n",
              "      <td>-380974197</td>\n",
              "      <td>1470.532217</td>\n",
              "    </tr>\n",
              "  </tbody>\n",
              "</table>\n",
              "</div>"
            ],
            "text/plain": [
              "                date_of_creation  ... commission_rate_a\n",
              "0  2018-09-01T14:49:24.000+02:00  ...       1470.532217\n",
              "1  2018-09-01T16:12:47.000+02:00  ...       1470.532217\n",
              "2  2018-09-01T21:56:29.000+02:00  ...        882.319330\n",
              "3  2018-09-02T00:25:25.000+02:00  ...       1764.638661\n",
              "4  2018-09-02T14:56:47.000+02:00  ...       1470.532217\n",
              "\n",
              "[5 rows x 33 columns]"
            ]
          },
          "metadata": {
            "tags": []
          },
          "execution_count": 82
        }
      ]
    },
    {
      "cell_type": "markdown",
      "metadata": {
        "id": "u2DhCUoN0DtZ",
        "colab_type": "text"
      },
      "source": [
        "**Solutions and Justification**\n",
        "\n",
        "I have got four quick ideas as below:\n",
        "\n",
        "1. In which day of the week, people is likely to make orders?\n",
        "2. Does the coupon bring increase in gross merchandise value? If yes, are all coupon type have the same effect? (if there are too many coupons, we can analyze the coupon group instead.) \n",
        "3. Which marketing channel is effective in contributing gmv, or they are the same?\n",
        "4. What common features/behaviour do the fraudulent orders have?\n",
        "\n",
        "I am interested in the No.3. To attract more viewers and buyers, a lot of companies tend to invest heavily on marketing campaigns. Because of that, we should choose the most successful marketing channel to launch the campaign. Or, we can find out the least successful marketing channel therefore optimize resources and maintenance efforts in the future.\n",
        "\n",
        "We can start by using exploratory data graphs, plotting different channel vs gmv, and/or use hypothesis testing to find if the average gmv of each channel is the same."
      ]
    },
    {
      "cell_type": "code",
      "metadata": {
        "id": "izVVQQAVosiu",
        "colab_type": "code",
        "outputId": "0f19630e-fa43-4e04-eafe-d749decf5b45",
        "colab": {
          "base_uri": "https://localhost:8080/",
          "height": 119
        }
      },
      "source": [
        "# back up dataset\n",
        "cart = shopping.copy()\n",
        "\n",
        "# Let's convert the anonymous `attrition_id_a` into some shorter labels\n",
        "from sklearn.preprocessing import OrdinalEncoder\n",
        "ord_enc = OrdinalEncoder(dtype=object)\n",
        "cart['attribution_id_enc'] = ord_enc.fit_transform(cart[['attribution_id_a']])\n",
        "print(cart['attribution_id_enc'].value_counts())"
      ],
      "execution_count": 0,
      "outputs": [
        {
          "output_type": "stream",
          "text": [
            "1    100895\n",
            "0     33223\n",
            "3     27636\n",
            "2     20862\n",
            "4     13872\n",
            "Name: attribution_id_enc, dtype: int64\n"
          ],
          "name": "stdout"
        }
      ]
    },
    {
      "cell_type": "code",
      "metadata": {
        "id": "mO44UVVlDwWV",
        "colab_type": "code",
        "outputId": "d49ba9c6-0017-4222-d58c-e9651ea2f766",
        "colab": {
          "base_uri": "https://localhost:8080/",
          "height": 102
        }
      },
      "source": [
        "# check the original id:\n",
        "for new, old in enumerate(ord_enc.categories_[0]):\n",
        "  print(f'Attribution ID {old} has been renamed as {new}')\n"
      ],
      "execution_count": 0,
      "outputs": [
        {
          "output_type": "stream",
          "text": [
            "Attribution ID -1823081949 has been renamed as 0\n",
            "Attribution ID -559580957 has been renamed as 1\n",
            "Attribution ID -397064898 has been renamed as 2\n",
            "Attribution ID 1023896466 has been renamed as 3\n",
            "Attribution ID 1765031574 has been renamed as 4\n"
          ],
          "name": "stdout"
        }
      ]
    },
    {
      "cell_type": "markdown",
      "metadata": {
        "id": "i89ff6B_-4ic",
        "colab_type": "text"
      },
      "source": [
        "Here the channel id has been updated with a simpler sensible id. We can take a look of the gmv in each channel as below."
      ]
    },
    {
      "cell_type": "code",
      "metadata": {
        "id": "79-kLv7uxvuX",
        "colab_type": "code",
        "outputId": "d197b506-63c1-48cc-8da7-2724f98ad5e6",
        "colab": {
          "base_uri": "https://localhost:8080/",
          "height": 136
        }
      },
      "source": [
        "# let's group the channel and check the average gmv\n",
        "channel_ = cart.groupby('attribution_id_enc')['gmv_a'].mean()\n",
        "channel_"
      ],
      "execution_count": 0,
      "outputs": [
        {
          "output_type": "execute_result",
          "data": {
            "text/plain": [
              "attribution_id_enc\n",
              "0    24.103099\n",
              "1    22.965379\n",
              "2    15.605417\n",
              "3    30.643268\n",
              "4    25.501139\n",
              "Name: gmv_a, dtype: float64"
            ]
          },
          "metadata": {
            "tags": []
          },
          "execution_count": 85
        }
      ]
    },
    {
      "cell_type": "markdown",
      "metadata": {
        "id": "_wv6Rue3_FQF",
        "colab_type": "text"
      },
      "source": [
        "It can be seen that channel 2 is the weakest channel, with the lowest averae gmv among other categories. Channel 3 on the other hand appears to be the most successful channel having the largest average gmv. The remaining 3 channels are more or less similar in gmv. We are tempted to say channel 2 is not that worthy. Let's abandon it; channel 3 is the best, let's put all our chips on it. But how confident are we that channel 3 is not gonna be worse in the future, or that channel 2 is gonna be better? \n",
        "\n",
        "We can be more confident by bootstrapping, where we randomly select 500 samples with replacement from the dataset. In this way, no matter which sample we draw, we will see its value is clustered at certain range. Given a lower and upper boundary at a specific confidence level, we have a solid estimation of the gmv by each channel."
      ]
    },
    {
      "cell_type": "code",
      "metadata": {
        "id": "rjSyEAND3n1f",
        "colab_type": "code",
        "outputId": "619b81d8-ff18-4a1d-cc4e-ca77c3251e9a",
        "colab": {
          "base_uri": "https://localhost:8080/",
          "height": 503
        }
      },
      "source": [
        "# Creating an list with bootstrapped means for each channel id\n",
        "boot_channel = []\n",
        "for i in range(500):\n",
        "    boot_mean = cart.sample(frac=1, replace=True).groupby('attribution_id_enc')['gmv_a'].mean()\n",
        "    boot_channel.append(boot_mean)\n",
        "    \n",
        "# Transforming the list to a DataFrame\n",
        "boot_channel = pd.DataFrame(boot_channel)\n",
        "    \n",
        "# A Kernel Density Estimate plot of the bootstrap distributions\n",
        "boot_channel.plot(kind='kde', figsize=(12, 8))"
      ],
      "execution_count": 0,
      "outputs": [
        {
          "output_type": "execute_result",
          "data": {
            "text/plain": [
              "<matplotlib.axes._subplots.AxesSubplot at 0x7f79d1b08f28>"
            ]
          },
          "metadata": {
            "tags": []
          },
          "execution_count": 86
        },
        {
          "output_type": "display_data",
          "data": {
            "image/png": "[encoded data removed]",
            "text/plain": [
              "<Figure size 864x576 with 1 Axes>"
            ]
          },
          "metadata": {
            "tags": []
          }
        }
      ]
    },
    {
      "cell_type": "markdown",
      "metadata": {
        "id": "aJtSGnr8DG29",
        "colab_type": "text"
      },
      "source": [
        "## The conclusion"
      ]
    },
    {
      "cell_type": "markdown",
      "metadata": {
        "id": "jeJqSPsYDAsr",
        "colab_type": "text"
      },
      "source": [
        "\n",
        "\n",
        "The bootstrap result tells us that there is strong evidence that gross merchandise value is the higest at marketing channel id 3 (anonymouse id: 1023896466) among other channels. On the other hand, gross merchandise value is the lowest using channel 2 (anonyouse id: -397064898).\n",
        "\n",
        "If we want to keep our marketing campaign successful, for the pursuit of large gmv, we should use channel 3 for new campaigns. There are, of course, other metrics we could look at, like looking at the commision rate (the nr over gmv), how many customers use the coupon (if the campaign relates to that). But GMV is the immediate effect of the channel success and more convincing to business stakeholders. GMV is affecting the NR that GYG will have, while the coupon is just a tool for business to generate profits (from GMV)."
      ]
    },
    {
      "cell_type": "markdown",
      "metadata": {
        "id": "HEbYqp8nIAdW",
        "colab_type": "text"
      },
      "source": [
        "# Task 3"
      ]
    },
    {
      "cell_type": "markdown",
      "metadata": {
        "id": "Hg_X6iB3IEKn",
        "colab_type": "text"
      },
      "source": [
        "\n",
        "\n",
        "---\n",
        "\n",
        "\n",
        "Based on the insight from Task 1, write a short description of an experiment that you would like to run. Please include the details of the experiment, including populations that you are testing, the metrics you would use to evaluate the experiment, and any other relevant information about your experiment design."
      ]
    },
    {
      "cell_type": "markdown",
      "metadata": {
        "id": "R6vXqiEGIfg1",
        "colab_type": "text"
      },
      "source": [
        "**Solution and Justification**\n",
        "\n",
        "<u>Experiment Background:</u>\n",
        "\n",
        "As we saw in section 1.2, the activity item `City Cruise` has the highest commision rate (2018: 30%) for GYG, we can think of a marketing campaign to boost sales in next summer.\n",
        "\n",
        "<u>Target Group</u>:\n",
        "\n",
        "- GYG registered customers\n",
        "- One group of customers as control group will not receive the campaign message, the other group should receive the campaign message. Both group of customers should be chosen randomly.\n",
        "\n",
        "<u>Process</u>:\n",
        "\n",
        "-- Before the campaign --\n",
        "\n",
        "* Define the campaign format, release date, duration;\n",
        "* Randomly choose two groups of customers\n",
        "\n",
        "-- During the campaign --\n",
        "\n",
        "* Closely mornitor customers behavior within the campaign duration\n",
        "\n",
        "-- After the campaign --\n",
        "\n",
        "* Clean cut and evaluate campaign success\n",
        "\n",
        "<u>Evaluation Metrics</u>:\n",
        "\n",
        "AB testing on the average Net Revenue. Evaluating the differrence of NR between these two groups. Using bootstraping to be confident of the results. \n",
        "\n",
        "<u>Be Noted</u>:\n",
        "\n",
        "Try to avoid any confounding effects in this experiment such as seasonality, which will obscure the impacts of campaign. The campaign has a duration. We need to choose the booking entries within the same period for both control and treament group. Other confounding effects may also include different marketing channels, marketing strategy, or even device. Please use only one kind for every attribute in this experiment. \n"
      ]
    },
    {
      "cell_type": "markdown",
      "metadata": {
        "id": "CfBpiDyaTmId",
        "colab_type": "text"
      },
      "source": [
        "# Task 4"
      ]
    },
    {
      "cell_type": "markdown",
      "metadata": {
        "id": "JlDEW3_STn8b",
        "colab_type": "text"
      },
      "source": [
        "\n",
        "\n",
        "---\n",
        "\n",
        "\n",
        "Our Customer Relationship Team occasionally asks us to generate lists from our booking data to send emails to our customers. They ask you to generate a list of customer_id and their first checkout date for a new campaign.\n",
        "\n",
        "The campaign will be sent to customers who have made their second checkout within 30 days of their first check out. \n",
        "\n",
        "Using the fact_checkout table below, write the SQL needed to generate the list."
      ]
    },
    {
      "cell_type": "markdown",
      "metadata": {
        "id": "ZgyUv1OMp6Vc",
        "colab_type": "text"
      },
      "source": [
        "**Solution and Justification**\n",
        "\n",
        "\n",
        "```\n",
        "-- create customer temporary table containing customer_id that have made at least 2 checkout\n",
        "WITH POTENTIAL_CUSTOMER AS \n",
        "(\n",
        "\t SELECT customer_id_a\n",
        "\t FROM (\n",
        "\t \tSELECT customer_id_a, COUNT(date_of_checkout) AS num_of_checkout\n",
        "\t \tFROM fact_checkout\n",
        "\t \tGROUP BY 1\n",
        "\t \tHAVING COUNT(date_of_checkout) >=2\n",
        "\t \t)\n",
        " ),\n",
        "\n",
        "-- create checkout temporary table contains the earliest two checkouts from the customer id created earlier \n",
        "POTENTIAL_CHECKOUT AS \n",
        "(\n",
        "\tSELECT \n",
        "\t\tcustomer_id_a, \n",
        "\t\tdate_of_checkout, \n",
        "\t\tRANK() OVER(PARTITION BY customer_id_a, ORDER BY date_of_checkout) AS payment_order\n",
        "\tFROM fact_checkout\n",
        "\tHAVING payment_order <= 2\n",
        "\tWHERE customer_id_a IN POTENTIAL_CUSTOMER\n",
        "),\n",
        "\n",
        "-- create checkout status temporary table with extract columns stating the first and second checkout date\n",
        "CHECKOUT_STATUS AS \n",
        "(\n",
        "\tSELECT \n",
        "\t\tcustomer_id_a, \n",
        "\t\tCASE WHEN payment_order = 1 THEN date_of_checkout\n",
        "\t\t\tEND AS first_checkout_date\n",
        "\t\tCASE WHEN payment_order = 2 THEN date_of_checkout\n",
        "\t\t\tEND AS second_checkout_date\n",
        "\tFROM POTENTIAL_CHECKOUT\n",
        ")\n",
        "\n",
        "-- extract the needed customer id and their first checkout date whose second checkout date is within 30 days\n",
        "SELECT \n",
        "\tcustomer_id_a, \n",
        "\tfirst_checkout_date\n",
        "FROM CHECKOUT_STATUS\n",
        "WHERE DATEADD(day, 30, first_checkout_date) <= second_checkout_date;\n",
        "```"
      ]
    },
    {
      "cell_type": "markdown",
      "metadata": {
        "id": "r9lyp9d0qm08",
        "colab_type": "text"
      },
      "source": [
        "# The end of the test"
      ]
    }
  ]
}